{
 "cells": [
  {
   "cell_type": "code",
   "execution_count": 1,
   "id": "97a7699d",
   "metadata": {
    "colab": {
     "base_uri": "https://localhost:8080/"
    },
    "executionInfo": {
     "elapsed": 16923,
     "status": "ok",
     "timestamp": 1675806823152,
     "user": {
      "displayName": "Miral Changela",
      "userId": "17500895624112848603"
     },
     "user_tz": 300
    },
    "id": "97a7699d",
    "outputId": "3da9f6b7-8490-4f9b-8eb4-0ab28e8d1d6d"
   },
   "outputs": [
    {
     "name": "stdout",
     "output_type": "stream",
     "text": [
      "Looking in indexes: https://pypi.org/simple, https://us-python.pkg.dev/colab-wheels/public/simple/\n",
      "Collecting yfinance\n",
      "  Downloading yfinance-0.2.9-py2.py3-none-any.whl (55 kB)\n",
      "\u001b[2K     \u001b[90m━━━━━━━━━━━━━━━━━━━━━━━━━━━━━━━━━━━━━━━━\u001b[0m \u001b[32m55.9/55.9 KB\u001b[0m \u001b[31m1.8 MB/s\u001b[0m eta \u001b[36m0:00:00\u001b[0m\n",
      "\u001b[?25hRequirement already satisfied: pytz>=2022.5 in /usr/local/lib/python3.8/dist-packages (from yfinance) (2022.7.1)\n",
      "Collecting html5lib>=1.1\n",
      "  Downloading html5lib-1.1-py2.py3-none-any.whl (112 kB)\n",
      "\u001b[2K     \u001b[90m━━━━━━━━━━━━━━━━━━━━━━━━━━━━━━━━━━━━━━━\u001b[0m \u001b[32m112.2/112.2 KB\u001b[0m \u001b[31m3.8 MB/s\u001b[0m eta \u001b[36m0:00:00\u001b[0m\n",
      "\u001b[?25hCollecting cryptography>=3.3.2\n",
      "  Downloading cryptography-39.0.1-cp36-abi3-manylinux_2_28_x86_64.whl (4.2 MB)\n",
      "\u001b[2K     \u001b[90m━━━━━━━━━━━━━━━━━━━━━━━━━━━━━━━━━━━━━━━━\u001b[0m \u001b[32m4.2/4.2 MB\u001b[0m \u001b[31m11.8 MB/s\u001b[0m eta \u001b[36m0:00:00\u001b[0m\n",
      "\u001b[?25hCollecting frozendict>=2.3.4\n",
      "  Downloading frozendict-2.3.4-cp38-cp38-manylinux_2_17_x86_64.manylinux2014_x86_64.whl (110 kB)\n",
      "\u001b[2K     \u001b[90m━━━━━━━━━━━━━━━━━━━━━━━━━━━━━━━━━━━━━━━\u001b[0m \u001b[32m111.0/111.0 KB\u001b[0m \u001b[31m4.1 MB/s\u001b[0m eta \u001b[36m0:00:00\u001b[0m\n",
      "\u001b[?25hCollecting requests>=2.26\n",
      "  Downloading requests-2.28.2-py3-none-any.whl (62 kB)\n",
      "\u001b[2K     \u001b[90m━━━━━━━━━━━━━━━━━━━━━━━━━━━━━━━━━━━━━━━━\u001b[0m \u001b[32m62.8/62.8 KB\u001b[0m \u001b[31m3.8 MB/s\u001b[0m eta \u001b[36m0:00:00\u001b[0m\n",
      "\u001b[?25hRequirement already satisfied: pandas>=1.3.0 in /usr/local/lib/python3.8/dist-packages (from yfinance) (1.3.5)\n",
      "Requirement already satisfied: lxml>=4.9.1 in /usr/local/lib/python3.8/dist-packages (from yfinance) (4.9.2)\n",
      "Requirement already satisfied: appdirs>=1.4.4 in /usr/local/lib/python3.8/dist-packages (from yfinance) (1.4.4)\n",
      "Collecting beautifulsoup4>=4.11.1\n",
      "  Downloading beautifulsoup4-4.11.2-py3-none-any.whl (129 kB)\n",
      "\u001b[2K     \u001b[90m━━━━━━━━━━━━━━━━━━━━━━━━━━━━━━━━━━━━━━━\u001b[0m \u001b[32m129.4/129.4 KB\u001b[0m \u001b[31m2.6 MB/s\u001b[0m eta \u001b[36m0:00:00\u001b[0m\n",
      "\u001b[?25hRequirement already satisfied: multitasking>=0.0.7 in /usr/local/lib/python3.8/dist-packages (from yfinance) (0.0.11)\n",
      "Requirement already satisfied: numpy>=1.16.5 in /usr/local/lib/python3.8/dist-packages (from yfinance) (1.21.6)\n",
      "Collecting soupsieve>1.2\n",
      "  Downloading soupsieve-2.3.2.post1-py3-none-any.whl (37 kB)\n",
      "Requirement already satisfied: cffi>=1.12 in /usr/local/lib/python3.8/dist-packages (from cryptography>=3.3.2->yfinance) (1.15.1)\n",
      "Requirement already satisfied: six>=1.9 in /usr/local/lib/python3.8/dist-packages (from html5lib>=1.1->yfinance) (1.15.0)\n",
      "Requirement already satisfied: webencodings in /usr/local/lib/python3.8/dist-packages (from html5lib>=1.1->yfinance) (0.5.1)\n",
      "Requirement already satisfied: python-dateutil>=2.7.3 in /usr/local/lib/python3.8/dist-packages (from pandas>=1.3.0->yfinance) (2.8.2)\n",
      "Requirement already satisfied: charset-normalizer<4,>=2 in /usr/local/lib/python3.8/dist-packages (from requests>=2.26->yfinance) (2.1.1)\n",
      "Requirement already satisfied: idna<4,>=2.5 in /usr/local/lib/python3.8/dist-packages (from requests>=2.26->yfinance) (2.10)\n",
      "Requirement already satisfied: urllib3<1.27,>=1.21.1 in /usr/local/lib/python3.8/dist-packages (from requests>=2.26->yfinance) (1.24.3)\n",
      "Requirement already satisfied: certifi>=2017.4.17 in /usr/local/lib/python3.8/dist-packages (from requests>=2.26->yfinance) (2022.12.7)\n",
      "Requirement already satisfied: pycparser in /usr/local/lib/python3.8/dist-packages (from cffi>=1.12->cryptography>=3.3.2->yfinance) (2.21)\n",
      "Installing collected packages: soupsieve, requests, html5lib, frozendict, cryptography, beautifulsoup4, yfinance\n",
      "  Attempting uninstall: requests\n",
      "    Found existing installation: requests 2.25.1\n",
      "    Uninstalling requests-2.25.1:\n",
      "      Successfully uninstalled requests-2.25.1\n",
      "  Attempting uninstall: html5lib\n",
      "    Found existing installation: html5lib 1.0.1\n",
      "    Uninstalling html5lib-1.0.1:\n",
      "      Successfully uninstalled html5lib-1.0.1\n",
      "  Attempting uninstall: beautifulsoup4\n",
      "    Found existing installation: beautifulsoup4 4.6.3\n",
      "    Uninstalling beautifulsoup4-4.6.3:\n",
      "      Successfully uninstalled beautifulsoup4-4.6.3\n",
      "Successfully installed beautifulsoup4-4.11.2 cryptography-39.0.1 frozendict-2.3.4 html5lib-1.1 requests-2.28.2 soupsieve-2.3.2.post1 yfinance-0.2.9\n"
     ]
    }
   ],
   "source": [
    "!pip install yfinance"
   ]
  },
  {
   "cell_type": "code",
   "execution_count": 2,
   "id": "b0903cd3",
   "metadata": {
    "executionInfo": {
     "elapsed": 3837,
     "status": "ok",
     "timestamp": 1675806826979,
     "user": {
      "displayName": "Miral Changela",
      "userId": "17500895624112848603"
     },
     "user_tz": 300
    },
    "id": "b0903cd3"
   },
   "outputs": [],
   "source": [
    "import yfinance as yf\n",
    "import numpy as np\n",
    "import pandas as pd\n",
    "import matplotlib.pyplot as plt\n",
    "from matplotlib import pyplot\n",
    "from sklearn.ensemble import RandomForestRegressor\n",
    "from sklearn.metrics import mean_squared_error, mean_absolute_error\n",
    "from sklearn.model_selection import ParameterGrid\n",
    "from sklearn import metrics\n",
    "from datetime import datetime\n",
    "import warnings\n",
    "warnings.filterwarnings(\"ignore\")\n",
    "%matplotlib inline"
   ]
  },
  {
   "cell_type": "code",
   "execution_count": 3,
   "id": "581dafa9",
   "metadata": {
    "executionInfo": {
     "elapsed": 27,
     "status": "ok",
     "timestamp": 1675806826980,
     "user": {
      "displayName": "Miral Changela",
      "userId": "17500895624112848603"
     },
     "user_tz": 300
    },
    "id": "581dafa9"
   },
   "outputs": [],
   "source": [
    "# getting the Date\n",
    "today = datetime.now().date()\n",
    "start_date = datetime(today.year-5 ,today.month ,today.day).date()"
   ]
  },
  {
   "cell_type": "code",
   "execution_count": 4,
   "id": "4c9f0059",
   "metadata": {
    "executionInfo": {
     "elapsed": 24,
     "status": "ok",
     "timestamp": 1675806826981,
     "user": {
      "displayName": "Miral Changela",
      "userId": "17500895624112848603"
     },
     "user_tz": 300
    },
    "id": "4c9f0059"
   },
   "outputs": [],
   "source": [
    "#disconary of name of company and its ticker\n",
    "ticker_dist = {\"Google\": \"GOOGL\",\n",
    "              \"Microsoft\":\"MSFT\",\n",
    "              \"Tesla\":\"TSLA\",\n",
    "              \"Amazon\":\"AMZN\",\n",
    "              \"Netflix\":\"NFLX\",\n",
    "              \"Apple\":\"AAPL\",\n",
    "              \"Facebook\":\"META\"}"
   ]
  },
  {
   "cell_type": "code",
   "execution_count": 5,
   "id": "a8212160",
   "metadata": {
    "colab": {
     "base_uri": "https://localhost:8080/"
    },
    "executionInfo": {
     "elapsed": 2927,
     "status": "ok",
     "timestamp": 1675806829886,
     "user": {
      "displayName": "Miral Changela",
      "userId": "17500895624112848603"
     },
     "user_tz": 300
    },
    "id": "a8212160",
    "outputId": "0af9ce78-ceb1-4e16-d785-fa2d97812fad"
   },
   "outputs": [
    {
     "name": "stdout",
     "output_type": "stream",
     "text": [
      "[*********************100%***********************]  1 of 1 completed\n",
      "[*********************100%***********************]  1 of 1 completed\n",
      "[*********************100%***********************]  1 of 1 completed\n",
      "[*********************100%***********************]  1 of 1 completed\n",
      "[*********************100%***********************]  1 of 1 completed\n",
      "[*********************100%***********************]  1 of 1 completed\n",
      "[*********************100%***********************]  1 of 1 completed\n"
     ]
    }
   ],
   "source": [
    "for ticker in ticker_dist:\n",
    "    filepath = \"Resources/\"+ ticker +\".csv\"\n",
    "    globals()[ticker] = yf.download(ticker_dist[ticker], start=start_date, end=today)\n",
    "    #globals()[ticker] = pdr.get_data_yahoo(ticker_dist[ticker], start=start_date, end=today)\n",
    "    globals()[ticker].index = globals()[ticker].index.date\n",
    "    globals()[ticker].index.name='Date'\n",
    "    globals()[ticker].index = pd.to_datetime(globals()[ticker].index)"
   ]
  },
  {
   "cell_type": "code",
   "execution_count": 6,
   "id": "fc0ee7c8",
   "metadata": {
    "executionInfo": {
     "elapsed": 160,
     "status": "ok",
     "timestamp": 1675806830032,
     "user": {
      "displayName": "Miral Changela",
      "userId": "17500895624112848603"
     },
     "user_tz": 300
    },
    "id": "fc0ee7c8"
   },
   "outputs": [],
   "source": [
    "company_list= [Google,Microsoft,Tesla,Amazon,Netflix,Apple,Facebook] # which is df name and data is stored\n",
    "company_name=[\"Google\",\"Microsoft\",\"Tesla\",\"Amazon\",\"Netflix\",\"Apple\",\"Facebook\"] # which name we want to give them"
   ]
  },
  {
   "cell_type": "code",
   "execution_count": 7,
   "id": "7c8fec06",
   "metadata": {
    "executionInfo": {
     "elapsed": 10,
     "status": "ok",
     "timestamp": 1675806830033,
     "user": {
      "displayName": "Miral Changela",
      "userId": "17500895624112848603"
     },
     "user_tz": 300
    },
    "id": "7c8fec06"
   },
   "outputs": [],
   "source": [
    "df = Microsoft"
   ]
  },
  {
   "cell_type": "code",
   "execution_count": 8,
   "id": "44283f97",
   "metadata": {
    "executionInfo": {
     "elapsed": 352,
     "status": "ok",
     "timestamp": 1675806830376,
     "user": {
      "displayName": "Miral Changela",
      "userId": "17500895624112848603"
     },
     "user_tz": 300
    },
    "id": "44283f97"
   },
   "outputs": [],
   "source": [
    "# Create a new dataframe with only the 'Close column \n",
    "data = df.filter(['Adj Close'])"
   ]
  },
  {
   "cell_type": "code",
   "execution_count": 9,
   "id": "150052c1",
   "metadata": {
    "executionInfo": {
     "elapsed": 19,
     "status": "ok",
     "timestamp": 1675806830377,
     "user": {
      "displayName": "Miral Changela",
      "userId": "17500895624112848603"
     },
     "user_tz": 300
    },
    "id": "150052c1"
   },
   "outputs": [],
   "source": [
    "# Convert the dataframe to a numpy array\n",
    "dataset = data.values"
   ]
  },
  {
   "cell_type": "code",
   "execution_count": 10,
   "id": "b8bde391",
   "metadata": {
    "executionInfo": {
     "elapsed": 18,
     "status": "ok",
     "timestamp": 1675806830379,
     "user": {
      "displayName": "Miral Changela",
      "userId": "17500895624112848603"
     },
     "user_tz": 300
    },
    "id": "b8bde391"
   },
   "outputs": [],
   "source": [
    "# Get the number of rows to train the model on\n",
    "# ceil is use for find nearer integer\n",
    "training_data_len = int(np.ceil(len(dataset) * .90 ))"
   ]
  },
  {
   "cell_type": "code",
   "execution_count": 11,
   "id": "dbe81d93",
   "metadata": {
    "executionInfo": {
     "elapsed": 17,
     "status": "ok",
     "timestamp": 1675806830380,
     "user": {
      "displayName": "Miral Changela",
      "userId": "17500895624112848603"
     },
     "user_tz": 300
    },
    "id": "dbe81d93"
   },
   "outputs": [],
   "source": [
    "# Scale the data\n",
    "from sklearn.preprocessing import MinMaxScaler\n",
    "scaler = MinMaxScaler(feature_range=(0,1))\n",
    "scaled_data = scaler.fit_transform(dataset)"
   ]
  },
  {
   "cell_type": "code",
   "execution_count": 12,
   "id": "Umq7tEUOBVHS",
   "metadata": {
    "executionInfo": {
     "elapsed": 17,
     "status": "ok",
     "timestamp": 1675806830381,
     "user": {
      "displayName": "Miral Changela",
      "userId": "17500895624112848603"
     },
     "user_tz": 300
    },
    "id": "Umq7tEUOBVHS"
   },
   "outputs": [],
   "source": [
    "# generate the input and output sequences\n",
    "n_lookback = 60  # length of input sequences (lookback period)\n",
    "n_forecast =  60 # length of output sequences (forecast period)"
   ]
  },
  {
   "cell_type": "code",
   "execution_count": 13,
   "id": "fd98fc60",
   "metadata": {
    "colab": {
     "base_uri": "https://localhost:8080/"
    },
    "executionInfo": {
     "elapsed": 17,
     "status": "ok",
     "timestamp": 1675806830382,
     "user": {
      "displayName": "Miral Changela",
      "userId": "17500895624112848603"
     },
     "user_tz": 300
    },
    "id": "fd98fc60",
    "outputId": "20d35b2c-08af-4a92-aa95-a5c755da946e"
   },
   "outputs": [
    {
     "data": {
      "text/plain": [
       "1133"
      ]
     },
     "execution_count": 13,
     "metadata": {},
     "output_type": "execute_result"
    }
   ],
   "source": [
    "train_data = scaled_data[0:int(training_data_len), :]\n",
    "len(train_data)"
   ]
  },
  {
   "cell_type": "code",
   "execution_count": 14,
   "id": "e02c7a51",
   "metadata": {
    "executionInfo": {
     "elapsed": 8,
     "status": "ok",
     "timestamp": 1675806830566,
     "user": {
      "displayName": "Miral Changela",
      "userId": "17500895624112848603"
     },
     "user_tz": 300
    },
    "id": "e02c7a51"
   },
   "outputs": [],
   "source": [
    "# Split the data into x_train and y_train data sets\n",
    "x_train = []\n",
    "y_train = []\n",
    "\n",
    "for i in range(60, len(train_data)):\n",
    "    x_train.append(train_data[i-60:i, 0])\n",
    "    y_train.append(train_data[i, 0])"
   ]
  },
  {
   "cell_type": "code",
   "execution_count": 15,
   "id": "pAcjLFYoSpfF",
   "metadata": {
    "colab": {
     "base_uri": "https://localhost:8080/"
    },
    "executionInfo": {
     "elapsed": 7,
     "status": "ok",
     "timestamp": 1675806830567,
     "user": {
      "displayName": "Miral Changela",
      "userId": "17500895624112848603"
     },
     "user_tz": 300
    },
    "id": "pAcjLFYoSpfF",
    "outputId": "13894a8d-548e-40fd-afa9-a37591d7204b"
   },
   "outputs": [
    {
     "data": {
      "text/plain": [
       "(1073, 1073)"
      ]
     },
     "execution_count": 15,
     "metadata": {},
     "output_type": "execute_result"
    }
   ],
   "source": [
    "len(x_train) , len(y_train)"
   ]
  },
  {
   "cell_type": "code",
   "execution_count": 16,
   "id": "e96d5bff",
   "metadata": {
    "executionInfo": {
     "elapsed": 6,
     "status": "ok",
     "timestamp": 1675806830568,
     "user": {
      "displayName": "Miral Changela",
      "userId": "17500895624112848603"
     },
     "user_tz": 300
    },
    "id": "e96d5bff"
   },
   "outputs": [],
   "source": [
    "# Convert the x_train and y_train to numpy arrays \n",
    "x_train, y_train = np.array(x_train), np.array(y_train)"
   ]
  },
  {
   "cell_type": "code",
   "execution_count": 17,
   "id": "387e9759",
   "metadata": {
    "colab": {
     "base_uri": "https://localhost:8080/"
    },
    "executionInfo": {
     "elapsed": 240,
     "status": "ok",
     "timestamp": 1675806830803,
     "user": {
      "displayName": "Miral Changela",
      "userId": "17500895624112848603"
     },
     "user_tz": 300
    },
    "id": "387e9759",
    "outputId": "ba725421-da79-496b-f784-8e6f47246457"
   },
   "outputs": [
    {
     "data": {
      "text/plain": [
       "(1073, 60, 1)"
      ]
     },
     "execution_count": 17,
     "metadata": {},
     "output_type": "execute_result"
    }
   ],
   "source": [
    "# Reshape the data\n",
    "x_train = np.reshape(x_train, (x_train.shape[0], x_train.shape[1], 1))\n",
    "x_train.shape"
   ]
  },
  {
   "cell_type": "code",
   "execution_count": 18,
   "id": "0f62b1ac",
   "metadata": {
    "colab": {
     "base_uri": "https://localhost:8080/"
    },
    "executionInfo": {
     "elapsed": 74034,
     "status": "ok",
     "timestamp": 1675806904828,
     "user": {
      "displayName": "Miral Changela",
      "userId": "17500895624112848603"
     },
     "user_tz": 300
    },
    "id": "0f62b1ac",
    "outputId": "0b8e3c0e-643b-40f9-8e21-91e88bb6a78c"
   },
   "outputs": [
    {
     "name": "stdout",
     "output_type": "stream",
     "text": [
      "1073/1073 [==============================] - 61s 48ms/step - loss: 0.0028\n"
     ]
    },
    {
     "data": {
      "text/plain": [
       "<keras.callbacks.History at 0x7feb6de6a0a0>"
      ]
     },
     "execution_count": 18,
     "metadata": {},
     "output_type": "execute_result"
    }
   ],
   "source": [
    "import tensorflow as tf\n",
    "from keras.models import Sequential\n",
    "from keras.layers import Dense, LSTM\n",
    "\n",
    "# Build the LSTM model\n",
    "model = Sequential()\n",
    "model.add(LSTM(50, return_sequences=True, input_shape= (n_lookback, 1)))\n",
    "model.add(LSTM(50, return_sequences=False))\n",
    "model.add(Dense(25))\n",
    "model.add(Dense(1))\n",
    "\n",
    "# Compile the model\n",
    "model.compile(optimizer='adam', loss='mean_squared_error')\n",
    "\n",
    "# Train the model\n",
    "model.fit(x_train, y_train, batch_size=1, epochs=1)"
   ]
  },
  {
   "cell_type": "code",
   "execution_count": 19,
   "id": "7fyc_rF0VIGp",
   "metadata": {
    "colab": {
     "base_uri": "https://localhost:8080/"
    },
    "executionInfo": {
     "elapsed": 51,
     "status": "ok",
     "timestamp": 1675806904829,
     "user": {
      "displayName": "Miral Changela",
      "userId": "17500895624112848603"
     },
     "user_tz": 300
    },
    "id": "7fyc_rF0VIGp",
    "outputId": "1ab78d16-0fe3-438d-ef1b-14eeaa351ddf"
   },
   "outputs": [
    {
     "data": {
      "text/plain": [
       "185"
      ]
     },
     "execution_count": 19,
     "metadata": {},
     "output_type": "execute_result"
    }
   ],
   "source": [
    "# Create the testing data set\n",
    "# Create a new array containing scaled values from index\n",
    "test_data = scaled_data[training_data_len - 60: , :]\n",
    "len(test_data)"
   ]
  },
  {
   "cell_type": "code",
   "execution_count": 20,
   "id": "44d8e185",
   "metadata": {
    "colab": {
     "base_uri": "https://localhost:8080/"
    },
    "executionInfo": {
     "elapsed": 1559,
     "status": "ok",
     "timestamp": 1675806906348,
     "user": {
      "displayName": "Miral Changela",
      "userId": "17500895624112848603"
     },
     "user_tz": 300
    },
    "id": "44d8e185",
    "outputId": "ba04d9ce-903a-46ea-e676-52e1fad9f122"
   },
   "outputs": [
    {
     "name": "stdout",
     "output_type": "stream",
     "text": [
      "4/4 [==============================] - 1s 41ms/step\n"
     ]
    }
   ],
   "source": [
    "# Create the testing data set\n",
    "# Create a new array containing scaled values from index\n",
    "test_data = scaled_data[training_data_len - 60: , :]\n",
    "# Create the data sets x_test and y_test\n",
    "x_test = []\n",
    "y_test = dataset[training_data_len:, :]\n",
    "for i in range(60, len(test_data)):\n",
    "    x_test.append(test_data[i-60:i, 0])\n",
    "   \n",
    "# Convert the data to a numpy array\n",
    "x_test = np.array(x_test)\n",
    "\n",
    "# Reshape the data\n",
    "x_test = np.reshape(x_test, (x_test.shape[0], x_test.shape[1], 1 ))\n",
    "\n",
    "# Get the models predicted price values \n",
    "y_pred = model.predict(x_test)\n",
    "y_pred = scaler.inverse_transform(y_pred)"
   ]
  },
  {
   "cell_type": "code",
   "execution_count": 21,
   "id": "cd31328a",
   "metadata": {
    "colab": {
     "base_uri": "https://localhost:8080/"
    },
    "executionInfo": {
     "elapsed": 27,
     "status": "ok",
     "timestamp": 1675806906350,
     "user": {
      "displayName": "Miral Changela",
      "userId": "17500895624112848603"
     },
     "user_tz": 300
    },
    "id": "cd31328a",
    "outputId": "24f26054-ac55-4ea6-c981-4997e56e3aa3"
   },
   "outputs": [
    {
     "data": {
      "text/plain": [
       "9.21019989873034"
      ]
     },
     "execution_count": 21,
     "metadata": {},
     "output_type": "execute_result"
    }
   ],
   "source": [
    "# Get the root mean squared error (RMSE)\n",
    "rmse = np.sqrt(np.mean(((y_pred - y_test) ** 2)))\n",
    "rmse"
   ]
  },
  {
   "cell_type": "code",
   "execution_count": 22,
   "id": "f00b4ee4",
   "metadata": {
    "colab": {
     "base_uri": "https://localhost:8080/",
     "height": 521
    },
    "executionInfo": {
     "elapsed": 501,
     "status": "ok",
     "timestamp": 1675806906830,
     "user": {
      "displayName": "Miral Changela",
      "userId": "17500895624112848603"
     },
     "user_tz": 300
    },
    "id": "f00b4ee4",
    "outputId": "b8e4ea32-b2a1-4e71-80ae-8a734416f2b5"
   },
   "outputs": [
    {
     "data": {
      "image/png": "[encoded data removed]",
      "text/plain": [
       "<Figure size 1152x576 with 1 Axes>"
      ]
     },
     "metadata": {
      "needs_background": "light"
     },
     "output_type": "display_data"
    }
   ],
   "source": [
    "# Plot the data\n",
    "train = data[:training_data_len]\n",
    "test = data[training_data_len:]\n",
    "test['Forecast'] = y_pred\n",
    "# Visualize the data\n",
    "plt.figure(figsize=(16,8))\n",
    "plt.title('Microsoft')\n",
    "plt.xlabel('Date', fontsize=18)\n",
    "plt.ylabel('Adj Close Price USD ($)', fontsize=18)\n",
    "plt.plot(train['Adj Close'])\n",
    "plt.plot(test[['Adj Close', 'Forecast']])\n",
    "plt.legend(['Adj Close', 'Test Adj Close', 'Forecast'], loc='lower right')\n",
    "plt.show()"
   ]
  },
  {
   "cell_type": "code",
   "execution_count": 23,
   "id": "94f78bd6",
   "metadata": {
    "colab": {
     "base_uri": "https://localhost:8080/",
     "height": 455
    },
    "executionInfo": {
     "elapsed": 43,
     "status": "ok",
     "timestamp": 1675806906831,
     "user": {
      "displayName": "Miral Changela",
      "userId": "17500895624112848603"
     },
     "user_tz": 300
    },
    "id": "94f78bd6",
    "outputId": "5298d6b2-bdf0-4ec9-8355-353a37f2cef3"
   },
   "outputs": [
    {
     "data": {
      "text/html": [
       "\n",
       "  <div id=\"df-a58952ef-fcf6-4d92-b746-815e84c2a8e2\">\n",
       "    <div class=\"colab-df-container\">\n",
       "      <div>\n",
       "<style scoped>\n",
       "    .dataframe tbody tr th:only-of-type {\n",
       "        vertical-align: middle;\n",
       "    }\n",
       "\n",
       "    .dataframe tbody tr th {\n",
       "        vertical-align: top;\n",
       "    }\n",
       "\n",
       "    .dataframe thead th {\n",
       "        text-align: right;\n",
       "    }\n",
       "</style>\n",
       "<table border=\"1\" class=\"dataframe\">\n",
       "  <thead>\n",
       "    <tr style=\"text-align: right;\">\n",
       "      <th></th>\n",
       "      <th>Adj Close</th>\n",
       "      <th>Forecast</th>\n",
       "    </tr>\n",
       "    <tr>\n",
       "      <th>Date</th>\n",
       "      <th></th>\n",
       "      <th></th>\n",
       "    </tr>\n",
       "  </thead>\n",
       "  <tbody>\n",
       "    <tr>\n",
       "      <th>2022-08-09</th>\n",
       "      <td>280.910400</td>\n",
       "      <td>278.910889</td>\n",
       "    </tr>\n",
       "    <tr>\n",
       "      <th>2022-08-10</th>\n",
       "      <td>287.736633</td>\n",
       "      <td>280.167603</td>\n",
       "    </tr>\n",
       "    <tr>\n",
       "      <th>2022-08-11</th>\n",
       "      <td>285.607147</td>\n",
       "      <td>281.768524</td>\n",
       "    </tr>\n",
       "    <tr>\n",
       "      <th>2022-08-12</th>\n",
       "      <td>290.473114</td>\n",
       "      <td>283.203308</td>\n",
       "    </tr>\n",
       "    <tr>\n",
       "      <th>2022-08-15</th>\n",
       "      <td>292.025421</td>\n",
       "      <td>284.882751</td>\n",
       "    </tr>\n",
       "    <tr>\n",
       "      <th>...</th>\n",
       "      <td>...</td>\n",
       "      <td>...</td>\n",
       "    </tr>\n",
       "    <tr>\n",
       "      <th>2023-01-31</th>\n",
       "      <td>247.809998</td>\n",
       "      <td>243.980377</td>\n",
       "    </tr>\n",
       "    <tr>\n",
       "      <th>2023-02-01</th>\n",
       "      <td>252.750000</td>\n",
       "      <td>245.056198</td>\n",
       "    </tr>\n",
       "    <tr>\n",
       "      <th>2023-02-02</th>\n",
       "      <td>264.600006</td>\n",
       "      <td>246.522537</td>\n",
       "    </tr>\n",
       "    <tr>\n",
       "      <th>2023-02-03</th>\n",
       "      <td>258.350006</td>\n",
       "      <td>249.176468</td>\n",
       "    </tr>\n",
       "    <tr>\n",
       "      <th>2023-02-06</th>\n",
       "      <td>256.769989</td>\n",
       "      <td>251.675705</td>\n",
       "    </tr>\n",
       "  </tbody>\n",
       "</table>\n",
       "<p>125 rows × 2 columns</p>\n",
       "</div>\n",
       "      <button class=\"colab-df-convert\" onclick=\"convertToInteractive('df-a58952ef-fcf6-4d92-b746-815e84c2a8e2')\"\n",
       "              title=\"Convert this dataframe to an interactive table.\"\n",
       "              style=\"display:none;\">\n",
       "        \n",
       "  <svg xmlns=\"http://www.w3.org/2000/svg\" height=\"24px\"viewBox=\"0 0 24 24\"\n",
       "       width=\"24px\">\n",
       "    <path d=\"M0 0h24v24H0V0z\" fill=\"none\"/>\n",
       "    <path d=\"M18.56 5.44l.94 2.06.94-2.06 2.06-.94-2.06-.94-.94-2.06-.94 2.06-2.06.94zm-11 1L8.5 8.5l.94-2.06 2.06-.94-2.06-.94L8.5 2.5l-.94 2.06-2.06.94zm10 10l.94 2.06.94-2.06 2.06-.94-2.06-.94-.94-2.06-.94 2.06-2.06.94z\"/><path d=\"M17.41 7.96l-1.37-1.37c-.4-.4-.92-.59-1.43-.59-.52 0-1.04.2-1.43.59L10.3 9.45l-7.72 7.72c-.78.78-.78 2.05 0 2.83L4 21.41c.39.39.9.59 1.41.59.51 0 1.02-.2 1.41-.59l7.78-7.78 2.81-2.81c.8-.78.8-2.07 0-2.86zM5.41 20L4 18.59l7.72-7.72 1.47 1.35L5.41 20z\"/>\n",
       "  </svg>\n",
       "      </button>\n",
       "      \n",
       "  <style>\n",
       "    .colab-df-container {\n",
       "      display:flex;\n",
       "      flex-wrap:wrap;\n",
       "      gap: 12px;\n",
       "    }\n",
       "\n",
       "    .colab-df-convert {\n",
       "      background-color: #E8F0FE;\n",
       "      border: none;\n",
       "      border-radius: 50%;\n",
       "      cursor: pointer;\n",
       "      display: none;\n",
       "      fill: #1967D2;\n",
       "      height: 32px;\n",
       "      padding: 0 0 0 0;\n",
       "      width: 32px;\n",
       "    }\n",
       "\n",
       "    .colab-df-convert:hover {\n",
       "      background-color: #E2EBFA;\n",
       "      box-shadow: 0px 1px 2px rgba(60, 64, 67, 0.3), 0px 1px 3px 1px rgba(60, 64, 67, 0.15);\n",
       "      fill: #174EA6;\n",
       "    }\n",
       "\n",
       "    [theme=dark] .colab-df-convert {\n",
       "      background-color: #3B4455;\n",
       "      fill: #D2E3FC;\n",
       "    }\n",
       "\n",
       "    [theme=dark] .colab-df-convert:hover {\n",
       "      background-color: #434B5C;\n",
       "      box-shadow: 0px 1px 3px 1px rgba(0, 0, 0, 0.15);\n",
       "      filter: drop-shadow(0px 1px 2px rgba(0, 0, 0, 0.3));\n",
       "      fill: #FFFFFF;\n",
       "    }\n",
       "  </style>\n",
       "\n",
       "      <script>\n",
       "        const buttonEl =\n",
       "          document.querySelector('#df-a58952ef-fcf6-4d92-b746-815e84c2a8e2 button.colab-df-convert');\n",
       "        buttonEl.style.display =\n",
       "          google.colab.kernel.accessAllowed ? 'block' : 'none';\n",
       "\n",
       "        async function convertToInteractive(key) {\n",
       "          const element = document.querySelector('#df-a58952ef-fcf6-4d92-b746-815e84c2a8e2');\n",
       "          const dataTable =\n",
       "            await google.colab.kernel.invokeFunction('convertToInteractive',\n",
       "                                                     [key], {});\n",
       "          if (!dataTable) return;\n",
       "\n",
       "          const docLinkHtml = 'Like what you see? Visit the ' +\n",
       "            '<a target=\"_blank\" href=https://colab.research.google.com/notebooks/data_table.ipynb>data table notebook</a>'\n",
       "            + ' to learn more about interactive tables.';\n",
       "          element.innerHTML = '';\n",
       "          dataTable['output_type'] = 'display_data';\n",
       "          await google.colab.output.renderOutput(dataTable, element);\n",
       "          const docLink = document.createElement('div');\n",
       "          docLink.innerHTML = docLinkHtml;\n",
       "          element.appendChild(docLink);\n",
       "        }\n",
       "      </script>\n",
       "    </div>\n",
       "  </div>\n",
       "  "
      ],
      "text/plain": [
       "             Adj Close    Forecast\n",
       "Date                              \n",
       "2022-08-09  280.910400  278.910889\n",
       "2022-08-10  287.736633  280.167603\n",
       "2022-08-11  285.607147  281.768524\n",
       "2022-08-12  290.473114  283.203308\n",
       "2022-08-15  292.025421  284.882751\n",
       "...                ...         ...\n",
       "2023-01-31  247.809998  243.980377\n",
       "2023-02-01  252.750000  245.056198\n",
       "2023-02-02  264.600006  246.522537\n",
       "2023-02-03  258.350006  249.176468\n",
       "2023-02-06  256.769989  251.675705\n",
       "\n",
       "[125 rows x 2 columns]"
      ]
     },
     "execution_count": 23,
     "metadata": {},
     "output_type": "execute_result"
    }
   ],
   "source": [
    "# Show the valid and predicted prices\n",
    "test"
   ]
  },
  {
   "cell_type": "code",
   "execution_count": 24,
   "id": "bqH0w4MbkWhD",
   "metadata": {
    "executionInfo": {
     "elapsed": 31,
     "status": "ok",
     "timestamp": 1675806906832,
     "user": {
      "displayName": "Miral Changela",
      "userId": "17500895624112848603"
     },
     "user_tz": 300
    },
    "id": "bqH0w4MbkWhD"
   },
   "outputs": [],
   "source": [
    "### Predicting the future price for next 3 months"
   ]
  },
  {
   "cell_type": "code",
   "execution_count": 25,
   "id": "CJ4EmFk8omBf",
   "metadata": {
    "executionInfo": {
     "elapsed": 29,
     "status": "ok",
     "timestamp": 1675806906833,
     "user": {
      "displayName": "Miral Changela",
      "userId": "17500895624112848603"
     },
     "user_tz": 300
    },
    "id": "CJ4EmFk8omBf"
   },
   "outputs": [],
   "source": [
    "# Split the data into x_train and y_train data sets\n",
    "x_train_pred = []\n",
    "y_train_pred = []\n",
    "\n",
    "for i in range(n_lookback, len(scaled_data) - n_forecast + 1):\n",
    "    x_train_pred.append(scaled_data[i - n_lookback: i])\n",
    "    y_train_pred.append(scaled_data[i: i + n_forecast])"
   ]
  },
  {
   "cell_type": "code",
   "execution_count": 26,
   "id": "DE6HGaw3o4rE",
   "metadata": {
    "executionInfo": {
     "elapsed": 33,
     "status": "ok",
     "timestamp": 1675806906841,
     "user": {
      "displayName": "Miral Changela",
      "userId": "17500895624112848603"
     },
     "user_tz": 300
    },
    "id": "DE6HGaw3o4rE"
   },
   "outputs": [],
   "source": [
    "# Convert the x_train and y_train to numpy arrays \n",
    "x_train_pred, y_train_pred = np.array(x_train_pred), np.array(y_train_pred)"
   ]
  },
  {
   "cell_type": "code",
   "execution_count": 27,
   "id": "Y-nV7x-Lkkgm",
   "metadata": {
    "colab": {
     "base_uri": "https://localhost:8080/"
    },
    "executionInfo": {
     "elapsed": 249361,
     "status": "ok",
     "timestamp": 1675807156169,
     "user": {
      "displayName": "Miral Changela",
      "userId": "17500895624112848603"
     },
     "user_tz": 300
    },
    "id": "Y-nV7x-Lkkgm",
    "outputId": "b29472b6-8127-41f9-ee77-ca4f941f9aee"
   },
   "outputs": [
    {
     "data": {
      "text/plain": [
       "<keras.callbacks.History at 0x7feb6c045910>"
      ]
     },
     "execution_count": 27,
     "metadata": {},
     "output_type": "execute_result"
    }
   ],
   "source": [
    "pred_model = Sequential()\n",
    "pred_model.add(LSTM(50, return_sequences=True, input_shape= (n_lookback, 1)))\n",
    "pred_model.add(LSTM(50, return_sequences=False))\n",
    "pred_model.add(Dense(n_forecast))\n",
    "\n",
    "pred_model.compile(loss='mean_squared_error', optimizer='adam')\n",
    "pred_model.fit(x_train_pred, y_train_pred, epochs=100, batch_size=32, verbose=0)"
   ]
  },
  {
   "cell_type": "code",
   "execution_count": 28,
   "id": "b39e6f00",
   "metadata": {
    "colab": {
     "base_uri": "https://localhost:8080/"
    },
    "executionInfo": {
     "elapsed": 940,
     "status": "ok",
     "timestamp": 1675807157083,
     "user": {
      "displayName": "Miral Changela",
      "userId": "17500895624112848603"
     },
     "user_tz": 300
    },
    "id": "b39e6f00",
    "outputId": "ab5a634e-7ae6-4591-c778-39059c5c092c"
   },
   "outputs": [
    {
     "name": "stdout",
     "output_type": "stream",
     "text": [
      "1/1 [==============================] - 1s 867ms/step\n"
     ]
    },
    {
     "data": {
      "text/plain": [
       "(60, 1)"
      ]
     },
     "execution_count": 28,
     "metadata": {},
     "output_type": "execute_result"
    }
   ],
   "source": [
    "# generate the forecasts\n",
    "x_future_test = scaled_data[- n_lookback:]  # last available input sequence\n",
    "x_future_test = x_future_test.reshape(1 , n_lookback, 1)\n",
    "y_future_test = pred_model.predict(x_future_test).reshape(-1, 1)\n",
    "y_future_test = scaler.inverse_transform(y_future_test)\n",
    "y_future_test.shape"
   ]
  },
  {
   "cell_type": "code",
   "execution_count": 29,
   "id": "aaKiYb_0EH9e",
   "metadata": {
    "executionInfo": {
     "elapsed": 24,
     "status": "ok",
     "timestamp": 1675807157086,
     "user": {
      "displayName": "Miral Changela",
      "userId": "17500895624112848603"
     },
     "user_tz": 300
    },
    "id": "aaKiYb_0EH9e"
   },
   "outputs": [],
   "source": [
    "df_past = train.append(test)\n",
    "df_past['Forecast'].iloc[-1] = df_past['Adj Close'].iloc[-1]"
   ]
  },
  {
   "cell_type": "code",
   "execution_count": 30,
   "id": "e8dab9ae",
   "metadata": {
    "executionInfo": {
     "elapsed": 22,
     "status": "ok",
     "timestamp": 1675807157088,
     "user": {
      "displayName": "Miral Changela",
      "userId": "17500895624112848603"
     },
     "user_tz": 300
    },
    "id": "e8dab9ae"
   },
   "outputs": [],
   "source": [
    "from datetime import datetime, timedelta\n",
    "df_future = pd.DataFrame(columns=['Date', 'Adj Close', 'Forecast'])\n",
    "days = [datetime.now().date() + timedelta(days=i) for i in range(84)]\n",
    "weekdays = [day for day in days if day.weekday() < 5]\n",
    "df_future['Date'] = pd.DataFrame({'date': weekdays})\n",
    "df_future['Date'] = pd.to_datetime(df_future['Date'])\n",
    "df_future['Forecast'] = y_future_test.flatten()\n",
    "df_future['Adj Close'] = np.nan\n",
    "df_future.set_index('Date', inplace=True)\n",
    "Results = df_past.append(df_future)"
   ]
  },
  {
   "cell_type": "code",
   "execution_count": 31,
   "id": "EaClYjy0Xp5O",
   "metadata": {
    "colab": {
     "base_uri": "https://localhost:8080/",
     "height": 521
    },
    "executionInfo": {
     "elapsed": 306,
     "status": "ok",
     "timestamp": 1675807157374,
     "user": {
      "displayName": "Miral Changela",
      "userId": "17500895624112848603"
     },
     "user_tz": 300
    },
    "id": "EaClYjy0Xp5O",
    "outputId": "1591fbbf-475a-4768-b885-da37c2ee4da5"
   },
   "outputs": [
    {
     "data": {
      "image/png": "[encoded data removed]",
      "text/plain": [
       "<Figure size 1152x576 with 1 Axes>"
      ]
     },
     "metadata": {
      "needs_background": "light"
     },
     "output_type": "display_data"
    }
   ],
   "source": [
    "plt.figure(figsize=(16,8))\n",
    "plt.title('Microsoft')\n",
    "plt.xlabel('Date', fontsize=18)\n",
    "plt.ylabel('Adj Close Price USD ($)', fontsize=18)\n",
    "plt.plot(df_past['Adj Close'])\n",
    "plt.plot(df_future['Forecast'])\n",
    "plt.legend(['Adj Close', 'Forecast'], loc='lower right')\n",
    "plt.show()"
   ]
  },
  {
   "cell_type": "code",
   "execution_count": 32,
   "id": "hyaUwDCfmUk7",
   "metadata": {
    "colab": {
     "base_uri": "https://localhost:8080/",
     "height": 455
    },
    "executionInfo": {
     "elapsed": 189,
     "status": "ok",
     "timestamp": 1675807157545,
     "user": {
      "displayName": "Miral Changela",
      "userId": "17500895624112848603"
     },
     "user_tz": 300
    },
    "id": "hyaUwDCfmUk7",
    "outputId": "b8e9f5f3-3a13-4097-f418-dbbd988ab810"
   },
   "outputs": [
    {
     "data": {
      "text/html": [
       "\n",
       "  <div id=\"df-8351b04c-1696-4153-9d1d-8f038c90eee3\">\n",
       "    <div class=\"colab-df-container\">\n",
       "      <div>\n",
       "<style scoped>\n",
       "    .dataframe tbody tr th:only-of-type {\n",
       "        vertical-align: middle;\n",
       "    }\n",
       "\n",
       "    .dataframe tbody tr th {\n",
       "        vertical-align: top;\n",
       "    }\n",
       "\n",
       "    .dataframe thead th {\n",
       "        text-align: right;\n",
       "    }\n",
       "</style>\n",
       "<table border=\"1\" class=\"dataframe\">\n",
       "  <thead>\n",
       "    <tr style=\"text-align: right;\">\n",
       "      <th></th>\n",
       "      <th>Adj Close</th>\n",
       "      <th>Forecast</th>\n",
       "    </tr>\n",
       "    <tr>\n",
       "      <th>Date</th>\n",
       "      <th></th>\n",
       "      <th></th>\n",
       "    </tr>\n",
       "  </thead>\n",
       "  <tbody>\n",
       "    <tr>\n",
       "      <th>2018-02-07</th>\n",
       "      <td>84.387077</td>\n",
       "      <td>NaN</td>\n",
       "    </tr>\n",
       "    <tr>\n",
       "      <th>2018-02-08</th>\n",
       "      <td>80.055176</td>\n",
       "      <td>NaN</td>\n",
       "    </tr>\n",
       "    <tr>\n",
       "      <th>2018-02-09</th>\n",
       "      <td>83.040436</td>\n",
       "      <td>NaN</td>\n",
       "    </tr>\n",
       "    <tr>\n",
       "      <th>2018-02-12</th>\n",
       "      <td>83.935059</td>\n",
       "      <td>NaN</td>\n",
       "    </tr>\n",
       "    <tr>\n",
       "      <th>2018-02-13</th>\n",
       "      <td>84.594246</td>\n",
       "      <td>NaN</td>\n",
       "    </tr>\n",
       "    <tr>\n",
       "      <th>...</th>\n",
       "      <td>...</td>\n",
       "      <td>...</td>\n",
       "    </tr>\n",
       "    <tr>\n",
       "      <th>2023-04-25</th>\n",
       "      <td>NaN</td>\n",
       "      <td>265.936035</td>\n",
       "    </tr>\n",
       "    <tr>\n",
       "      <th>2023-04-26</th>\n",
       "      <td>NaN</td>\n",
       "      <td>271.574310</td>\n",
       "    </tr>\n",
       "    <tr>\n",
       "      <th>2023-04-27</th>\n",
       "      <td>NaN</td>\n",
       "      <td>269.193665</td>\n",
       "    </tr>\n",
       "    <tr>\n",
       "      <th>2023-04-28</th>\n",
       "      <td>NaN</td>\n",
       "      <td>271.473145</td>\n",
       "    </tr>\n",
       "    <tr>\n",
       "      <th>2023-05-01</th>\n",
       "      <td>NaN</td>\n",
       "      <td>270.514130</td>\n",
       "    </tr>\n",
       "  </tbody>\n",
       "</table>\n",
       "<p>1318 rows × 2 columns</p>\n",
       "</div>\n",
       "      <button class=\"colab-df-convert\" onclick=\"convertToInteractive('df-8351b04c-1696-4153-9d1d-8f038c90eee3')\"\n",
       "              title=\"Convert this dataframe to an interactive table.\"\n",
       "              style=\"display:none;\">\n",
       "        \n",
       "  <svg xmlns=\"http://www.w3.org/2000/svg\" height=\"24px\"viewBox=\"0 0 24 24\"\n",
       "       width=\"24px\">\n",
       "    <path d=\"M0 0h24v24H0V0z\" fill=\"none\"/>\n",
       "    <path d=\"M18.56 5.44l.94 2.06.94-2.06 2.06-.94-2.06-.94-.94-2.06-.94 2.06-2.06.94zm-11 1L8.5 8.5l.94-2.06 2.06-.94-2.06-.94L8.5 2.5l-.94 2.06-2.06.94zm10 10l.94 2.06.94-2.06 2.06-.94-2.06-.94-.94-2.06-.94 2.06-2.06.94z\"/><path d=\"M17.41 7.96l-1.37-1.37c-.4-.4-.92-.59-1.43-.59-.52 0-1.04.2-1.43.59L10.3 9.45l-7.72 7.72c-.78.78-.78 2.05 0 2.83L4 21.41c.39.39.9.59 1.41.59.51 0 1.02-.2 1.41-.59l7.78-7.78 2.81-2.81c.8-.78.8-2.07 0-2.86zM5.41 20L4 18.59l7.72-7.72 1.47 1.35L5.41 20z\"/>\n",
       "  </svg>\n",
       "      </button>\n",
       "      \n",
       "  <style>\n",
       "    .colab-df-container {\n",
       "      display:flex;\n",
       "      flex-wrap:wrap;\n",
       "      gap: 12px;\n",
       "    }\n",
       "\n",
       "    .colab-df-convert {\n",
       "      background-color: #E8F0FE;\n",
       "      border: none;\n",
       "      border-radius: 50%;\n",
       "      cursor: pointer;\n",
       "      display: none;\n",
       "      fill: #1967D2;\n",
       "      height: 32px;\n",
       "      padding: 0 0 0 0;\n",
       "      width: 32px;\n",
       "    }\n",
       "\n",
       "    .colab-df-convert:hover {\n",
       "      background-color: #E2EBFA;\n",
       "      box-shadow: 0px 1px 2px rgba(60, 64, 67, 0.3), 0px 1px 3px 1px rgba(60, 64, 67, 0.15);\n",
       "      fill: #174EA6;\n",
       "    }\n",
       "\n",
       "    [theme=dark] .colab-df-convert {\n",
       "      background-color: #3B4455;\n",
       "      fill: #D2E3FC;\n",
       "    }\n",
       "\n",
       "    [theme=dark] .colab-df-convert:hover {\n",
       "      background-color: #434B5C;\n",
       "      box-shadow: 0px 1px 3px 1px rgba(0, 0, 0, 0.15);\n",
       "      filter: drop-shadow(0px 1px 2px rgba(0, 0, 0, 0.3));\n",
       "      fill: #FFFFFF;\n",
       "    }\n",
       "  </style>\n",
       "\n",
       "      <script>\n",
       "        const buttonEl =\n",
       "          document.querySelector('#df-8351b04c-1696-4153-9d1d-8f038c90eee3 button.colab-df-convert');\n",
       "        buttonEl.style.display =\n",
       "          google.colab.kernel.accessAllowed ? 'block' : 'none';\n",
       "\n",
       "        async function convertToInteractive(key) {\n",
       "          const element = document.querySelector('#df-8351b04c-1696-4153-9d1d-8f038c90eee3');\n",
       "          const dataTable =\n",
       "            await google.colab.kernel.invokeFunction('convertToInteractive',\n",
       "                                                     [key], {});\n",
       "          if (!dataTable) return;\n",
       "\n",
       "          const docLinkHtml = 'Like what you see? Visit the ' +\n",
       "            '<a target=\"_blank\" href=https://colab.research.google.com/notebooks/data_table.ipynb>data table notebook</a>'\n",
       "            + ' to learn more about interactive tables.';\n",
       "          element.innerHTML = '';\n",
       "          dataTable['output_type'] = 'display_data';\n",
       "          await google.colab.output.renderOutput(dataTable, element);\n",
       "          const docLink = document.createElement('div');\n",
       "          docLink.innerHTML = docLinkHtml;\n",
       "          element.appendChild(docLink);\n",
       "        }\n",
       "      </script>\n",
       "    </div>\n",
       "  </div>\n",
       "  "
      ],
      "text/plain": [
       "            Adj Close    Forecast\n",
       "Date                             \n",
       "2018-02-07  84.387077         NaN\n",
       "2018-02-08  80.055176         NaN\n",
       "2018-02-09  83.040436         NaN\n",
       "2018-02-12  83.935059         NaN\n",
       "2018-02-13  84.594246         NaN\n",
       "...               ...         ...\n",
       "2023-04-25        NaN  265.936035\n",
       "2023-04-26        NaN  271.574310\n",
       "2023-04-27        NaN  269.193665\n",
       "2023-04-28        NaN  271.473145\n",
       "2023-05-01        NaN  270.514130\n",
       "\n",
       "[1318 rows x 2 columns]"
      ]
     },
     "execution_count": 32,
     "metadata": {},
     "output_type": "execute_result"
    }
   ],
   "source": [
    "Results"
   ]
  }
 ],
 "metadata": {
  "colab": {
   "provenance": []
  },
  "kernelspec": {
   "display_name": "Python 3",
   "language": "python",
   "name": "python3"
  },
  "language_info": {
   "codemirror_mode": {
    "name": "ipython",
    "version": 3
   },
   "file_extension": ".py",
   "mimetype": "text/x-python",
   "name": "python",
   "nbconvert_exporter": "python",
   "pygments_lexer": "ipython3",
   "version": "3.8.8"
  }
 },
 "nbformat": 4,
 "nbformat_minor": 5
}
