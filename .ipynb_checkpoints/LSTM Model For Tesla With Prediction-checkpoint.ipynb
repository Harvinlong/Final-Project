{
 "cells": [
  {
   "cell_type": "code",
   "execution_count": 1,
   "id": "97a7699d",
   "metadata": {
    "colab": {
     "base_uri": "https://localhost:8080/"
    },
    "executionInfo": {
     "elapsed": 12739,
     "status": "ok",
     "timestamp": 1675807324506,
     "user": {
      "displayName": "Miral Changela",
      "userId": "17500895624112848603"
     },
     "user_tz": 300
    },
    "id": "97a7699d",
    "outputId": "9b83653e-15b2-4a3c-d524-81754039f980"
   },
   "outputs": [
    {
     "name": "stdout",
     "output_type": "stream",
     "text": [
      "Looking in indexes: https://pypi.org/simple, https://us-python.pkg.dev/colab-wheels/public/simple/\n",
      "Collecting yfinance\n",
      "  Downloading yfinance-0.2.9-py2.py3-none-any.whl (55 kB)\n",
      "\u001b[2K     \u001b[90m━━━━━━━━━━━━━━━━━━━━━━━━━━━━━━━━━━━━━━━━\u001b[0m \u001b[32m55.9/55.9 KB\u001b[0m \u001b[31m1.8 MB/s\u001b[0m eta \u001b[36m0:00:00\u001b[0m\n",
      "\u001b[?25hCollecting requests>=2.26\n",
      "  Downloading requests-2.28.2-py3-none-any.whl (62 kB)\n",
      "\u001b[2K     \u001b[90m━━━━━━━━━━━━━━━━━━━━━━━━━━━━━━━━━━━━━━━━\u001b[0m \u001b[32m62.8/62.8 KB\u001b[0m \u001b[31m3.8 MB/s\u001b[0m eta \u001b[36m0:00:00\u001b[0m\n",
      "\u001b[?25hRequirement already satisfied: lxml>=4.9.1 in /usr/local/lib/python3.8/dist-packages (from yfinance) (4.9.2)\n",
      "Requirement already satisfied: appdirs>=1.4.4 in /usr/local/lib/python3.8/dist-packages (from yfinance) (1.4.4)\n",
      "Collecting html5lib>=1.1\n",
      "  Downloading html5lib-1.1-py2.py3-none-any.whl (112 kB)\n",
      "\u001b[2K     \u001b[90m━━━━━━━━━━━━━━━━━━━━━━━━━━━━━━━━━━━━━━━\u001b[0m \u001b[32m112.2/112.2 KB\u001b[0m \u001b[31m3.5 MB/s\u001b[0m eta \u001b[36m0:00:00\u001b[0m\n",
      "\u001b[?25hRequirement already satisfied: pandas>=1.3.0 in /usr/local/lib/python3.8/dist-packages (from yfinance) (1.3.5)\n",
      "Collecting cryptography>=3.3.2\n",
      "  Downloading cryptography-39.0.1-cp36-abi3-manylinux_2_28_x86_64.whl (4.2 MB)\n",
      "\u001b[2K     \u001b[90m━━━━━━━━━━━━━━━━━━━━━━━━━━━━━━━━━━━━━━━━\u001b[0m \u001b[32m4.2/4.2 MB\u001b[0m \u001b[31m23.4 MB/s\u001b[0m eta \u001b[36m0:00:00\u001b[0m\n",
      "\u001b[?25hRequirement already satisfied: pytz>=2022.5 in /usr/local/lib/python3.8/dist-packages (from yfinance) (2022.7.1)\n",
      "Collecting beautifulsoup4>=4.11.1\n",
      "  Downloading beautifulsoup4-4.11.2-py3-none-any.whl (129 kB)\n",
      "\u001b[2K     \u001b[90m━━━━━━━━━━━━━━━━━━━━━━━━━━━━━━━━━━━━━━━\u001b[0m \u001b[32m129.4/129.4 KB\u001b[0m \u001b[31m8.0 MB/s\u001b[0m eta \u001b[36m0:00:00\u001b[0m\n",
      "\u001b[?25hRequirement already satisfied: multitasking>=0.0.7 in /usr/local/lib/python3.8/dist-packages (from yfinance) (0.0.11)\n",
      "Collecting frozendict>=2.3.4\n",
      "  Downloading frozendict-2.3.4-cp38-cp38-manylinux_2_17_x86_64.manylinux2014_x86_64.whl (110 kB)\n",
      "\u001b[2K     \u001b[90m━━━━━━━━━━━━━━━━━━━━━━━━━━━━━━━━━━━━━━━\u001b[0m \u001b[32m111.0/111.0 KB\u001b[0m \u001b[31m5.8 MB/s\u001b[0m eta \u001b[36m0:00:00\u001b[0m\n",
      "\u001b[?25hRequirement already satisfied: numpy>=1.16.5 in /usr/local/lib/python3.8/dist-packages (from yfinance) (1.21.6)\n",
      "Collecting soupsieve>1.2\n",
      "  Downloading soupsieve-2.3.2.post1-py3-none-any.whl (37 kB)\n",
      "Requirement already satisfied: cffi>=1.12 in /usr/local/lib/python3.8/dist-packages (from cryptography>=3.3.2->yfinance) (1.15.1)\n",
      "Requirement already satisfied: webencodings in /usr/local/lib/python3.8/dist-packages (from html5lib>=1.1->yfinance) (0.5.1)\n",
      "Requirement already satisfied: six>=1.9 in /usr/local/lib/python3.8/dist-packages (from html5lib>=1.1->yfinance) (1.15.0)\n",
      "Requirement already satisfied: python-dateutil>=2.7.3 in /usr/local/lib/python3.8/dist-packages (from pandas>=1.3.0->yfinance) (2.8.2)\n",
      "Requirement already satisfied: urllib3<1.27,>=1.21.1 in /usr/local/lib/python3.8/dist-packages (from requests>=2.26->yfinance) (1.24.3)\n",
      "Requirement already satisfied: certifi>=2017.4.17 in /usr/local/lib/python3.8/dist-packages (from requests>=2.26->yfinance) (2022.12.7)\n",
      "Requirement already satisfied: idna<4,>=2.5 in /usr/local/lib/python3.8/dist-packages (from requests>=2.26->yfinance) (2.10)\n",
      "Requirement already satisfied: charset-normalizer<4,>=2 in /usr/local/lib/python3.8/dist-packages (from requests>=2.26->yfinance) (2.1.1)\n",
      "Requirement already satisfied: pycparser in /usr/local/lib/python3.8/dist-packages (from cffi>=1.12->cryptography>=3.3.2->yfinance) (2.21)\n",
      "Installing collected packages: soupsieve, requests, html5lib, frozendict, cryptography, beautifulsoup4, yfinance\n",
      "  Attempting uninstall: requests\n",
      "    Found existing installation: requests 2.25.1\n",
      "    Uninstalling requests-2.25.1:\n",
      "      Successfully uninstalled requests-2.25.1\n",
      "  Attempting uninstall: html5lib\n",
      "    Found existing installation: html5lib 1.0.1\n",
      "    Uninstalling html5lib-1.0.1:\n",
      "      Successfully uninstalled html5lib-1.0.1\n",
      "  Attempting uninstall: beautifulsoup4\n",
      "    Found existing installation: beautifulsoup4 4.6.3\n",
      "    Uninstalling beautifulsoup4-4.6.3:\n",
      "      Successfully uninstalled beautifulsoup4-4.6.3\n",
      "Successfully installed beautifulsoup4-4.11.2 cryptography-39.0.1 frozendict-2.3.4 html5lib-1.1 requests-2.28.2 soupsieve-2.3.2.post1 yfinance-0.2.9\n"
     ]
    }
   ],
   "source": [
    "!pip install yfinance"
   ]
  },
  {
   "cell_type": "code",
   "execution_count": 2,
   "id": "b0903cd3",
   "metadata": {
    "executionInfo": {
     "elapsed": 2379,
     "status": "ok",
     "timestamp": 1675807326874,
     "user": {
      "displayName": "Miral Changela",
      "userId": "17500895624112848603"
     },
     "user_tz": 300
    },
    "id": "b0903cd3"
   },
   "outputs": [],
   "source": [
    "import yfinance as yf\n",
    "import numpy as np\n",
    "import pandas as pd\n",
    "import matplotlib.pyplot as plt\n",
    "from matplotlib import pyplot\n",
    "from sklearn.ensemble import RandomForestRegressor\n",
    "from sklearn.metrics import mean_squared_error, mean_absolute_error\n",
    "from sklearn.model_selection import ParameterGrid\n",
    "from sklearn import metrics\n",
    "from datetime import datetime\n",
    "import warnings\n",
    "warnings.filterwarnings(\"ignore\")\n",
    "%matplotlib inline"
   ]
  },
  {
   "cell_type": "code",
   "execution_count": 3,
   "id": "581dafa9",
   "metadata": {
    "executionInfo": {
     "elapsed": 20,
     "status": "ok",
     "timestamp": 1675807326876,
     "user": {
      "displayName": "Miral Changela",
      "userId": "17500895624112848603"
     },
     "user_tz": 300
    },
    "id": "581dafa9"
   },
   "outputs": [],
   "source": [
    "# getting the Date\n",
    "today = datetime.now().date()\n",
    "start_date = datetime(today.year-5 ,today.month ,today.day).date()"
   ]
  },
  {
   "cell_type": "code",
   "execution_count": 4,
   "id": "4c9f0059",
   "metadata": {
    "executionInfo": {
     "elapsed": 18,
     "status": "ok",
     "timestamp": 1675807326878,
     "user": {
      "displayName": "Miral Changela",
      "userId": "17500895624112848603"
     },
     "user_tz": 300
    },
    "id": "4c9f0059"
   },
   "outputs": [],
   "source": [
    "#disconary of name of company and its ticker\n",
    "ticker_dist = {\"Google\": \"GOOGL\",\n",
    "              \"Microsoft\":\"MSFT\",\n",
    "              \"Tesla\":\"TSLA\",\n",
    "              \"Amazon\":\"AMZN\",\n",
    "              \"Netflix\":\"NFLX\",\n",
    "              \"Apple\":\"AAPL\",\n",
    "              \"Facebook\":\"META\"}"
   ]
  },
  {
   "cell_type": "code",
   "execution_count": 5,
   "id": "a8212160",
   "metadata": {
    "colab": {
     "base_uri": "https://localhost:8080/"
    },
    "executionInfo": {
     "elapsed": 1748,
     "status": "ok",
     "timestamp": 1675807328610,
     "user": {
      "displayName": "Miral Changela",
      "userId": "17500895624112848603"
     },
     "user_tz": 300
    },
    "id": "a8212160",
    "outputId": "5429cf2d-06f4-4b20-dad6-a0c8581577a7"
   },
   "outputs": [
    {
     "name": "stdout",
     "output_type": "stream",
     "text": [
      "[*********************100%***********************]  1 of 1 completed\n",
      "[*********************100%***********************]  1 of 1 completed\n",
      "[*********************100%***********************]  1 of 1 completed\n",
      "[*********************100%***********************]  1 of 1 completed\n",
      "[*********************100%***********************]  1 of 1 completed\n",
      "[*********************100%***********************]  1 of 1 completed\n",
      "[*********************100%***********************]  1 of 1 completed\n"
     ]
    }
   ],
   "source": [
    "for ticker in ticker_dist:\n",
    "    filepath = \"Resources/\"+ ticker +\".csv\"\n",
    "    globals()[ticker] = yf.download(ticker_dist[ticker], start=start_date, end=today)\n",
    "    #globals()[ticker] = pdr.get_data_yahoo(ticker_dist[ticker], start=start_date, end=today)\n",
    "    globals()[ticker].index = globals()[ticker].index.date\n",
    "    globals()[ticker].index.name='Date'\n",
    "    globals()[ticker].index = pd.to_datetime(globals()[ticker].index)"
   ]
  },
  {
   "cell_type": "code",
   "execution_count": 6,
   "id": "fc0ee7c8",
   "metadata": {
    "executionInfo": {
     "elapsed": 33,
     "status": "ok",
     "timestamp": 1675807328611,
     "user": {
      "displayName": "Miral Changela",
      "userId": "17500895624112848603"
     },
     "user_tz": 300
    },
    "id": "fc0ee7c8"
   },
   "outputs": [],
   "source": [
    "company_list= [Google,Microsoft,Tesla,Amazon,Netflix,Apple,Facebook] # which is df name and data is stored\n",
    "company_name=[\"Google\",\"Microsoft\",\"Tesla\",\"Amazon\",\"Netflix\",\"Apple\",\"Facebook\"] # which name we want to give them"
   ]
  },
  {
   "cell_type": "code",
   "execution_count": 7,
   "id": "7c8fec06",
   "metadata": {
    "executionInfo": {
     "elapsed": 31,
     "status": "ok",
     "timestamp": 1675807328611,
     "user": {
      "displayName": "Miral Changela",
      "userId": "17500895624112848603"
     },
     "user_tz": 300
    },
    "id": "7c8fec06"
   },
   "outputs": [],
   "source": [
    "df = Tesla"
   ]
  },
  {
   "cell_type": "code",
   "execution_count": 8,
   "id": "44283f97",
   "metadata": {
    "executionInfo": {
     "elapsed": 30,
     "status": "ok",
     "timestamp": 1675807328612,
     "user": {
      "displayName": "Miral Changela",
      "userId": "17500895624112848603"
     },
     "user_tz": 300
    },
    "id": "44283f97"
   },
   "outputs": [],
   "source": [
    "# Create a new dataframe with only the 'Close column \n",
    "data = df.filter(['Adj Close'])"
   ]
  },
  {
   "cell_type": "code",
   "execution_count": 9,
   "id": "150052c1",
   "metadata": {
    "executionInfo": {
     "elapsed": 27,
     "status": "ok",
     "timestamp": 1675807328612,
     "user": {
      "displayName": "Miral Changela",
      "userId": "17500895624112848603"
     },
     "user_tz": 300
    },
    "id": "150052c1"
   },
   "outputs": [],
   "source": [
    "# Convert the dataframe to a numpy array\n",
    "dataset = data.values"
   ]
  },
  {
   "cell_type": "code",
   "execution_count": 10,
   "id": "b8bde391",
   "metadata": {
    "executionInfo": {
     "elapsed": 27,
     "status": "ok",
     "timestamp": 1675807328613,
     "user": {
      "displayName": "Miral Changela",
      "userId": "17500895624112848603"
     },
     "user_tz": 300
    },
    "id": "b8bde391"
   },
   "outputs": [],
   "source": [
    "# Get the number of rows to train the model on\n",
    "# ceil is use for find nearer integer\n",
    "training_data_len = int(np.ceil(len(dataset) * .90 ))"
   ]
  },
  {
   "cell_type": "code",
   "execution_count": 11,
   "id": "dbe81d93",
   "metadata": {
    "executionInfo": {
     "elapsed": 25,
     "status": "ok",
     "timestamp": 1675807328614,
     "user": {
      "displayName": "Miral Changela",
      "userId": "17500895624112848603"
     },
     "user_tz": 300
    },
    "id": "dbe81d93"
   },
   "outputs": [],
   "source": [
    "# Scale the data\n",
    "from sklearn.preprocessing import MinMaxScaler\n",
    "scaler = MinMaxScaler(feature_range=(0,1))\n",
    "scaled_data = scaler.fit_transform(dataset)"
   ]
  },
  {
   "cell_type": "code",
   "execution_count": 12,
   "id": "Umq7tEUOBVHS",
   "metadata": {
    "executionInfo": {
     "elapsed": 22,
     "status": "ok",
     "timestamp": 1675807328614,
     "user": {
      "displayName": "Miral Changela",
      "userId": "17500895624112848603"
     },
     "user_tz": 300
    },
    "id": "Umq7tEUOBVHS"
   },
   "outputs": [],
   "source": [
    "# generate the input and output sequences\n",
    "n_lookback = 60  # length of input sequences (lookback period)\n",
    "n_forecast =  60 # length of output sequences (forecast period)"
   ]
  },
  {
   "cell_type": "code",
   "execution_count": 13,
   "id": "fd98fc60",
   "metadata": {
    "colab": {
     "base_uri": "https://localhost:8080/"
    },
    "executionInfo": {
     "elapsed": 277,
     "status": "ok",
     "timestamp": 1675807328871,
     "user": {
      "displayName": "Miral Changela",
      "userId": "17500895624112848603"
     },
     "user_tz": 300
    },
    "id": "fd98fc60",
    "outputId": "6c79da50-7178-4f63-eaa6-e475fa433398"
   },
   "outputs": [
    {
     "data": {
      "text/plain": [
       "1133"
      ]
     },
     "execution_count": 13,
     "metadata": {},
     "output_type": "execute_result"
    }
   ],
   "source": [
    "train_data = scaled_data[0:int(training_data_len), :]\n",
    "len(train_data)"
   ]
  },
  {
   "cell_type": "code",
   "execution_count": 14,
   "id": "e02c7a51",
   "metadata": {
    "executionInfo": {
     "elapsed": 36,
     "status": "ok",
     "timestamp": 1675807328873,
     "user": {
      "displayName": "Miral Changela",
      "userId": "17500895624112848603"
     },
     "user_tz": 300
    },
    "id": "e02c7a51"
   },
   "outputs": [],
   "source": [
    "# Split the data into x_train and y_train data sets\n",
    "x_train = []\n",
    "y_train = []\n",
    "\n",
    "for i in range(60, len(train_data)):\n",
    "    x_train.append(train_data[i-60:i, 0])\n",
    "    y_train.append(train_data[i, 0])"
   ]
  },
  {
   "cell_type": "code",
   "execution_count": 15,
   "id": "pAcjLFYoSpfF",
   "metadata": {
    "colab": {
     "base_uri": "https://localhost:8080/"
    },
    "executionInfo": {
     "elapsed": 39,
     "status": "ok",
     "timestamp": 1675807328878,
     "user": {
      "displayName": "Miral Changela",
      "userId": "17500895624112848603"
     },
     "user_tz": 300
    },
    "id": "pAcjLFYoSpfF",
    "outputId": "95bd6dd9-fe18-4530-a52f-08651b02ffc8"
   },
   "outputs": [
    {
     "data": {
      "text/plain": [
       "(1073, 1073)"
      ]
     },
     "execution_count": 15,
     "metadata": {},
     "output_type": "execute_result"
    }
   ],
   "source": [
    "len(x_train) , len(y_train)"
   ]
  },
  {
   "cell_type": "code",
   "execution_count": 16,
   "id": "e96d5bff",
   "metadata": {
    "executionInfo": {
     "elapsed": 33,
     "status": "ok",
     "timestamp": 1675807328880,
     "user": {
      "displayName": "Miral Changela",
      "userId": "17500895624112848603"
     },
     "user_tz": 300
    },
    "id": "e96d5bff"
   },
   "outputs": [],
   "source": [
    "# Convert the x_train and y_train to numpy arrays \n",
    "x_train, y_train = np.array(x_train), np.array(y_train)"
   ]
  },
  {
   "cell_type": "code",
   "execution_count": 17,
   "id": "387e9759",
   "metadata": {
    "colab": {
     "base_uri": "https://localhost:8080/"
    },
    "executionInfo": {
     "elapsed": 32,
     "status": "ok",
     "timestamp": 1675807328881,
     "user": {
      "displayName": "Miral Changela",
      "userId": "17500895624112848603"
     },
     "user_tz": 300
    },
    "id": "387e9759",
    "outputId": "b6ac1db4-9210-4ccb-a5b3-d53309d896c2"
   },
   "outputs": [
    {
     "data": {
      "text/plain": [
       "(1073, 60, 1)"
      ]
     },
     "execution_count": 17,
     "metadata": {},
     "output_type": "execute_result"
    }
   ],
   "source": [
    "# Reshape the data\n",
    "x_train = np.reshape(x_train, (x_train.shape[0], x_train.shape[1], 1))\n",
    "x_train.shape"
   ]
  },
  {
   "cell_type": "code",
   "execution_count": 18,
   "id": "0f62b1ac",
   "metadata": {
    "colab": {
     "base_uri": "https://localhost:8080/"
    },
    "executionInfo": {
     "elapsed": 46373,
     "status": "ok",
     "timestamp": 1675807375230,
     "user": {
      "displayName": "Miral Changela",
      "userId": "17500895624112848603"
     },
     "user_tz": 300
    },
    "id": "0f62b1ac",
    "outputId": "ab699638-ecd5-4d18-db92-9205cb16799f"
   },
   "outputs": [
    {
     "name": "stdout",
     "output_type": "stream",
     "text": [
      "1073/1073 [==============================] - 40s 32ms/step - loss: 0.0030\n"
     ]
    },
    {
     "data": {
      "text/plain": [
       "<keras.callbacks.History at 0x7f3190829f40>"
      ]
     },
     "execution_count": 18,
     "metadata": {},
     "output_type": "execute_result"
    }
   ],
   "source": [
    "import tensorflow as tf\n",
    "from keras.models import Sequential\n",
    "from keras.layers import Dense, LSTM\n",
    "\n",
    "# Build the LSTM model\n",
    "model = Sequential()\n",
    "model.add(LSTM(50, return_sequences=True, input_shape= (n_lookback, 1)))\n",
    "model.add(LSTM(50, return_sequences=False))\n",
    "model.add(Dense(25))\n",
    "model.add(Dense(1))\n",
    "\n",
    "# Compile the model\n",
    "model.compile(optimizer='adam', loss='mean_squared_error')\n",
    "\n",
    "# Train the model\n",
    "model.fit(x_train, y_train, batch_size=1, epochs=1)"
   ]
  },
  {
   "cell_type": "code",
   "execution_count": 19,
   "id": "7fyc_rF0VIGp",
   "metadata": {
    "colab": {
     "base_uri": "https://localhost:8080/"
    },
    "executionInfo": {
     "elapsed": 42,
     "status": "ok",
     "timestamp": 1675807375231,
     "user": {
      "displayName": "Miral Changela",
      "userId": "17500895624112848603"
     },
     "user_tz": 300
    },
    "id": "7fyc_rF0VIGp",
    "outputId": "1a068e88-4264-4aa9-b2b3-741ddeb61f9c"
   },
   "outputs": [
    {
     "data": {
      "text/plain": [
       "185"
      ]
     },
     "execution_count": 19,
     "metadata": {},
     "output_type": "execute_result"
    }
   ],
   "source": [
    "# Create the testing data set\n",
    "# Create a new array containing scaled values from index\n",
    "test_data = scaled_data[training_data_len - 60: , :]\n",
    "len(test_data)"
   ]
  },
  {
   "cell_type": "code",
   "execution_count": 20,
   "id": "44d8e185",
   "metadata": {
    "colab": {
     "base_uri": "https://localhost:8080/"
    },
    "executionInfo": {
     "elapsed": 964,
     "status": "ok",
     "timestamp": 1675807376162,
     "user": {
      "displayName": "Miral Changela",
      "userId": "17500895624112848603"
     },
     "user_tz": 300
    },
    "id": "44d8e185",
    "outputId": "99311bc5-d923-4750-eb77-243bd05bb311"
   },
   "outputs": [
    {
     "name": "stdout",
     "output_type": "stream",
     "text": [
      "4/4 [==============================] - 1s 30ms/step\n"
     ]
    }
   ],
   "source": [
    "# Create the testing data set\n",
    "# Create a new array containing scaled values from index\n",
    "test_data = scaled_data[training_data_len - 60: , :]\n",
    "# Create the data sets x_test and y_test\n",
    "x_test = []\n",
    "y_test = dataset[training_data_len:, :]\n",
    "for i in range(60, len(test_data)):\n",
    "    x_test.append(test_data[i-60:i, 0])\n",
    "   \n",
    "# Convert the data to a numpy array\n",
    "x_test = np.array(x_test)\n",
    "\n",
    "# Reshape the data\n",
    "x_test = np.reshape(x_test, (x_test.shape[0], x_test.shape[1], 1 ))\n",
    "\n",
    "# Get the models predicted price values \n",
    "y_pred = model.predict(x_test)\n",
    "y_pred = scaler.inverse_transform(y_pred)"
   ]
  },
  {
   "cell_type": "code",
   "execution_count": 21,
   "id": "cd31328a",
   "metadata": {
    "colab": {
     "base_uri": "https://localhost:8080/"
    },
    "executionInfo": {
     "elapsed": 10,
     "status": "ok",
     "timestamp": 1675807376163,
     "user": {
      "displayName": "Miral Changela",
      "userId": "17500895624112848603"
     },
     "user_tz": 300
    },
    "id": "cd31328a",
    "outputId": "0c3dc0de-40e9-4fe7-c7e0-703e877bfaec"
   },
   "outputs": [
    {
     "data": {
      "text/plain": [
       "14.446877347267902"
      ]
     },
     "execution_count": 21,
     "metadata": {},
     "output_type": "execute_result"
    }
   ],
   "source": [
    "# Get the root mean squared error (RMSE)\n",
    "rmse = np.sqrt(np.mean(((y_pred - y_test) ** 2)))\n",
    "rmse"
   ]
  },
  {
   "cell_type": "code",
   "execution_count": 22,
   "id": "f00b4ee4",
   "metadata": {
    "colab": {
     "base_uri": "https://localhost:8080/",
     "height": 521
    },
    "executionInfo": {
     "elapsed": 387,
     "status": "ok",
     "timestamp": 1675807376545,
     "user": {
      "displayName": "Miral Changela",
      "userId": "17500895624112848603"
     },
     "user_tz": 300
    },
    "id": "f00b4ee4",
    "outputId": "0dd3a09c-52cf-4ebc-b436-d6829a565a3e"
   },
   "outputs": [
    {
     "data": {
      "image/png": "[encoded data removed]",
      "text/plain": [
       "<Figure size 1152x576 with 1 Axes>"
      ]
     },
     "metadata": {
      "needs_background": "light"
     },
     "output_type": "display_data"
    }
   ],
   "source": [
    "# Plot the data\n",
    "train = data[:training_data_len]\n",
    "test = data[training_data_len:]\n",
    "test['Forecast'] = y_pred\n",
    "# Visualize the data\n",
    "plt.figure(figsize=(16,8))\n",
    "plt.title('Tesla')\n",
    "plt.xlabel('Date', fontsize=18)\n",
    "plt.ylabel('Adj Close Price USD ($)', fontsize=18)\n",
    "plt.plot(train['Adj Close'])\n",
    "plt.plot(test[['Adj Close', 'Forecast']])\n",
    "plt.legend(['Adj Close', 'Test Adj Close', 'Forecast'], loc='lower right')\n",
    "plt.show()"
   ]
  },
  {
   "cell_type": "code",
   "execution_count": 23,
   "id": "94f78bd6",
   "metadata": {
    "colab": {
     "base_uri": "https://localhost:8080/",
     "height": 455
    },
    "executionInfo": {
     "elapsed": 46,
     "status": "ok",
     "timestamp": 1675807376547,
     "user": {
      "displayName": "Miral Changela",
      "userId": "17500895624112848603"
     },
     "user_tz": 300
    },
    "id": "94f78bd6",
    "outputId": "9d5ed860-e178-4dba-d64b-3b5263564177"
   },
   "outputs": [
    {
     "data": {
      "text/html": [
       "\n",
       "  <div id=\"df-d451ae43-088f-41e6-b1b6-5f1ab7eec767\">\n",
       "    <div class=\"colab-df-container\">\n",
       "      <div>\n",
       "<style scoped>\n",
       "    .dataframe tbody tr th:only-of-type {\n",
       "        vertical-align: middle;\n",
       "    }\n",
       "\n",
       "    .dataframe tbody tr th {\n",
       "        vertical-align: top;\n",
       "    }\n",
       "\n",
       "    .dataframe thead th {\n",
       "        text-align: right;\n",
       "    }\n",
       "</style>\n",
       "<table border=\"1\" class=\"dataframe\">\n",
       "  <thead>\n",
       "    <tr style=\"text-align: right;\">\n",
       "      <th></th>\n",
       "      <th>Adj Close</th>\n",
       "      <th>Forecast</th>\n",
       "    </tr>\n",
       "    <tr>\n",
       "      <th>Date</th>\n",
       "      <th></th>\n",
       "      <th></th>\n",
       "    </tr>\n",
       "  </thead>\n",
       "  <tbody>\n",
       "    <tr>\n",
       "      <th>2022-08-09</th>\n",
       "      <td>283.333344</td>\n",
       "      <td>286.875305</td>\n",
       "    </tr>\n",
       "    <tr>\n",
       "      <th>2022-08-10</th>\n",
       "      <td>294.356659</td>\n",
       "      <td>284.358490</td>\n",
       "    </tr>\n",
       "    <tr>\n",
       "      <th>2022-08-11</th>\n",
       "      <td>286.630005</td>\n",
       "      <td>282.653748</td>\n",
       "    </tr>\n",
       "    <tr>\n",
       "      <th>2022-08-12</th>\n",
       "      <td>300.029999</td>\n",
       "      <td>280.556274</td>\n",
       "    </tr>\n",
       "    <tr>\n",
       "      <th>2022-08-15</th>\n",
       "      <td>309.320007</td>\n",
       "      <td>280.341583</td>\n",
       "    </tr>\n",
       "    <tr>\n",
       "      <th>...</th>\n",
       "      <td>...</td>\n",
       "      <td>...</td>\n",
       "    </tr>\n",
       "    <tr>\n",
       "      <th>2023-01-31</th>\n",
       "      <td>173.220001</td>\n",
       "      <td>149.767227</td>\n",
       "    </tr>\n",
       "    <tr>\n",
       "      <th>2023-02-01</th>\n",
       "      <td>181.410004</td>\n",
       "      <td>155.443253</td>\n",
       "    </tr>\n",
       "    <tr>\n",
       "      <th>2023-02-02</th>\n",
       "      <td>188.270004</td>\n",
       "      <td>161.140869</td>\n",
       "    </tr>\n",
       "    <tr>\n",
       "      <th>2023-02-03</th>\n",
       "      <td>189.979996</td>\n",
       "      <td>166.964188</td>\n",
       "    </tr>\n",
       "    <tr>\n",
       "      <th>2023-02-06</th>\n",
       "      <td>194.759995</td>\n",
       "      <td>172.305740</td>\n",
       "    </tr>\n",
       "  </tbody>\n",
       "</table>\n",
       "<p>125 rows × 2 columns</p>\n",
       "</div>\n",
       "      <button class=\"colab-df-convert\" onclick=\"convertToInteractive('df-d451ae43-088f-41e6-b1b6-5f1ab7eec767')\"\n",
       "              title=\"Convert this dataframe to an interactive table.\"\n",
       "              style=\"display:none;\">\n",
       "        \n",
       "  <svg xmlns=\"http://www.w3.org/2000/svg\" height=\"24px\"viewBox=\"0 0 24 24\"\n",
       "       width=\"24px\">\n",
       "    <path d=\"M0 0h24v24H0V0z\" fill=\"none\"/>\n",
       "    <path d=\"M18.56 5.44l.94 2.06.94-2.06 2.06-.94-2.06-.94-.94-2.06-.94 2.06-2.06.94zm-11 1L8.5 8.5l.94-2.06 2.06-.94-2.06-.94L8.5 2.5l-.94 2.06-2.06.94zm10 10l.94 2.06.94-2.06 2.06-.94-2.06-.94-.94-2.06-.94 2.06-2.06.94z\"/><path d=\"M17.41 7.96l-1.37-1.37c-.4-.4-.92-.59-1.43-.59-.52 0-1.04.2-1.43.59L10.3 9.45l-7.72 7.72c-.78.78-.78 2.05 0 2.83L4 21.41c.39.39.9.59 1.41.59.51 0 1.02-.2 1.41-.59l7.78-7.78 2.81-2.81c.8-.78.8-2.07 0-2.86zM5.41 20L4 18.59l7.72-7.72 1.47 1.35L5.41 20z\"/>\n",
       "  </svg>\n",
       "      </button>\n",
       "      \n",
       "  <style>\n",
       "    .colab-df-container {\n",
       "      display:flex;\n",
       "      flex-wrap:wrap;\n",
       "      gap: 12px;\n",
       "    }\n",
       "\n",
       "    .colab-df-convert {\n",
       "      background-color: #E8F0FE;\n",
       "      border: none;\n",
       "      border-radius: 50%;\n",
       "      cursor: pointer;\n",
       "      display: none;\n",
       "      fill: #1967D2;\n",
       "      height: 32px;\n",
       "      padding: 0 0 0 0;\n",
       "      width: 32px;\n",
       "    }\n",
       "\n",
       "    .colab-df-convert:hover {\n",
       "      background-color: #E2EBFA;\n",
       "      box-shadow: 0px 1px 2px rgba(60, 64, 67, 0.3), 0px 1px 3px 1px rgba(60, 64, 67, 0.15);\n",
       "      fill: #174EA6;\n",
       "    }\n",
       "\n",
       "    [theme=dark] .colab-df-convert {\n",
       "      background-color: #3B4455;\n",
       "      fill: #D2E3FC;\n",
       "    }\n",
       "\n",
       "    [theme=dark] .colab-df-convert:hover {\n",
       "      background-color: #434B5C;\n",
       "      box-shadow: 0px 1px 3px 1px rgba(0, 0, 0, 0.15);\n",
       "      filter: drop-shadow(0px 1px 2px rgba(0, 0, 0, 0.3));\n",
       "      fill: #FFFFFF;\n",
       "    }\n",
       "  </style>\n",
       "\n",
       "      <script>\n",
       "        const buttonEl =\n",
       "          document.querySelector('#df-d451ae43-088f-41e6-b1b6-5f1ab7eec767 button.colab-df-convert');\n",
       "        buttonEl.style.display =\n",
       "          google.colab.kernel.accessAllowed ? 'block' : 'none';\n",
       "\n",
       "        async function convertToInteractive(key) {\n",
       "          const element = document.querySelector('#df-d451ae43-088f-41e6-b1b6-5f1ab7eec767');\n",
       "          const dataTable =\n",
       "            await google.colab.kernel.invokeFunction('convertToInteractive',\n",
       "                                                     [key], {});\n",
       "          if (!dataTable) return;\n",
       "\n",
       "          const docLinkHtml = 'Like what you see? Visit the ' +\n",
       "            '<a target=\"_blank\" href=https://colab.research.google.com/notebooks/data_table.ipynb>data table notebook</a>'\n",
       "            + ' to learn more about interactive tables.';\n",
       "          element.innerHTML = '';\n",
       "          dataTable['output_type'] = 'display_data';\n",
       "          await google.colab.output.renderOutput(dataTable, element);\n",
       "          const docLink = document.createElement('div');\n",
       "          docLink.innerHTML = docLinkHtml;\n",
       "          element.appendChild(docLink);\n",
       "        }\n",
       "      </script>\n",
       "    </div>\n",
       "  </div>\n",
       "  "
      ],
      "text/plain": [
       "             Adj Close    Forecast\n",
       "Date                              \n",
       "2022-08-09  283.333344  286.875305\n",
       "2022-08-10  294.356659  284.358490\n",
       "2022-08-11  286.630005  282.653748\n",
       "2022-08-12  300.029999  280.556274\n",
       "2022-08-15  309.320007  280.341583\n",
       "...                ...         ...\n",
       "2023-01-31  173.220001  149.767227\n",
       "2023-02-01  181.410004  155.443253\n",
       "2023-02-02  188.270004  161.140869\n",
       "2023-02-03  189.979996  166.964188\n",
       "2023-02-06  194.759995  172.305740\n",
       "\n",
       "[125 rows x 2 columns]"
      ]
     },
     "execution_count": 23,
     "metadata": {},
     "output_type": "execute_result"
    }
   ],
   "source": [
    "# Show the valid and predicted prices\n",
    "test"
   ]
  },
  {
   "cell_type": "code",
   "execution_count": 24,
   "id": "bqH0w4MbkWhD",
   "metadata": {
    "executionInfo": {
     "elapsed": 43,
     "status": "ok",
     "timestamp": 1675807376549,
     "user": {
      "displayName": "Miral Changela",
      "userId": "17500895624112848603"
     },
     "user_tz": 300
    },
    "id": "bqH0w4MbkWhD"
   },
   "outputs": [],
   "source": [
    "### Predicting the future price for next 3 months"
   ]
  },
  {
   "cell_type": "code",
   "execution_count": 25,
   "id": "CJ4EmFk8omBf",
   "metadata": {
    "executionInfo": {
     "elapsed": 50,
     "status": "ok",
     "timestamp": 1675807376558,
     "user": {
      "displayName": "Miral Changela",
      "userId": "17500895624112848603"
     },
     "user_tz": 300
    },
    "id": "CJ4EmFk8omBf"
   },
   "outputs": [],
   "source": [
    "# Split the data into x_train and y_train data sets\n",
    "x_train_pred = []\n",
    "y_train_pred = []\n",
    "\n",
    "for i in range(n_lookback, len(scaled_data) - n_forecast + 1):\n",
    "    x_train_pred.append(scaled_data[i - n_lookback: i])\n",
    "    y_train_pred.append(scaled_data[i: i + n_forecast])"
   ]
  },
  {
   "cell_type": "code",
   "execution_count": 26,
   "id": "DE6HGaw3o4rE",
   "metadata": {
    "executionInfo": {
     "elapsed": 49,
     "status": "ok",
     "timestamp": 1675807376558,
     "user": {
      "displayName": "Miral Changela",
      "userId": "17500895624112848603"
     },
     "user_tz": 300
    },
    "id": "DE6HGaw3o4rE"
   },
   "outputs": [],
   "source": [
    "# Convert the x_train and y_train to numpy arrays \n",
    "x_train_pred, y_train_pred = np.array(x_train_pred), np.array(y_train_pred)"
   ]
  },
  {
   "cell_type": "code",
   "execution_count": 27,
   "id": "Y-nV7x-Lkkgm",
   "metadata": {
    "colab": {
     "base_uri": "https://localhost:8080/"
    },
    "executionInfo": {
     "elapsed": 162900,
     "status": "ok",
     "timestamp": 1675807539411,
     "user": {
      "displayName": "Miral Changela",
      "userId": "17500895624112848603"
     },
     "user_tz": 300
    },
    "id": "Y-nV7x-Lkkgm",
    "outputId": "21d19aea-9b23-497c-e515-bd8b9a7a148b"
   },
   "outputs": [
    {
     "data": {
      "text/plain": [
       "<keras.callbacks.History at 0x7f3189253970>"
      ]
     },
     "execution_count": 27,
     "metadata": {},
     "output_type": "execute_result"
    }
   ],
   "source": [
    "pred_model = Sequential()\n",
    "pred_model.add(LSTM(50, return_sequences=True, input_shape= (n_lookback, 1)))\n",
    "pred_model.add(LSTM(50, return_sequences=False))\n",
    "pred_model.add(Dense(n_forecast))\n",
    "\n",
    "pred_model.compile(loss='mean_squared_error', optimizer='adam')\n",
    "pred_model.fit(x_train_pred, y_train_pred, epochs=100, batch_size=32, verbose=0)"
   ]
  },
  {
   "cell_type": "code",
   "execution_count": 28,
   "id": "b39e6f00",
   "metadata": {
    "colab": {
     "base_uri": "https://localhost:8080/"
    },
    "executionInfo": {
     "elapsed": 799,
     "status": "ok",
     "timestamp": 1675807540169,
     "user": {
      "displayName": "Miral Changela",
      "userId": "17500895624112848603"
     },
     "user_tz": 300
    },
    "id": "b39e6f00",
    "outputId": "f9ad2a7e-e181-4c4b-efa9-45867d4de138"
   },
   "outputs": [
    {
     "name": "stdout",
     "output_type": "stream",
     "text": [
      "1/1 [==============================] - 1s 754ms/step\n"
     ]
    },
    {
     "data": {
      "text/plain": [
       "(60, 1)"
      ]
     },
     "execution_count": 28,
     "metadata": {},
     "output_type": "execute_result"
    }
   ],
   "source": [
    "# generate the forecasts\n",
    "x_future_test = scaled_data[- n_lookback:]  # last available input sequence\n",
    "x_future_test = x_future_test.reshape(1 , n_lookback, 1)\n",
    "y_future_test = pred_model.predict(x_future_test).reshape(-1, 1)\n",
    "y_future_test = scaler.inverse_transform(y_future_test)\n",
    "y_future_test.shape"
   ]
  },
  {
   "cell_type": "code",
   "execution_count": 29,
   "id": "aaKiYb_0EH9e",
   "metadata": {
    "executionInfo": {
     "elapsed": 18,
     "status": "ok",
     "timestamp": 1675807540171,
     "user": {
      "displayName": "Miral Changela",
      "userId": "17500895624112848603"
     },
     "user_tz": 300
    },
    "id": "aaKiYb_0EH9e"
   },
   "outputs": [],
   "source": [
    "df_past = train.append(test)\n",
    "df_past['Forecast'].iloc[-1] = df_past['Adj Close'].iloc[-1]"
   ]
  },
  {
   "cell_type": "code",
   "execution_count": 30,
   "id": "e8dab9ae",
   "metadata": {
    "executionInfo": {
     "elapsed": 16,
     "status": "ok",
     "timestamp": 1675807540173,
     "user": {
      "displayName": "Miral Changela",
      "userId": "17500895624112848603"
     },
     "user_tz": 300
    },
    "id": "e8dab9ae"
   },
   "outputs": [],
   "source": [
    "from datetime import datetime, timedelta\n",
    "df_future = pd.DataFrame(columns=['Date', 'Adj Close', 'Forecast'])\n",
    "days = [datetime.now().date() + timedelta(days=i) for i in range(84)]\n",
    "weekdays = [day for day in days if day.weekday() < 5]\n",
    "df_future['Date'] = pd.DataFrame({'date': weekdays})\n",
    "df_future['Date'] = pd.to_datetime(df_future['Date'])\n",
    "df_future['Forecast'] = y_future_test.flatten()\n",
    "df_future['Adj Close'] = np.nan\n",
    "df_future.set_index('Date', inplace=True)\n",
    "Results = df_past.append(df_future)"
   ]
  },
  {
   "cell_type": "code",
   "execution_count": 31,
   "id": "EaClYjy0Xp5O",
   "metadata": {
    "colab": {
     "base_uri": "https://localhost:8080/",
     "height": 521
    },
    "executionInfo": {
     "elapsed": 380,
     "status": "ok",
     "timestamp": 1675807540540,
     "user": {
      "displayName": "Miral Changela",
      "userId": "17500895624112848603"
     },
     "user_tz": 300
    },
    "id": "EaClYjy0Xp5O",
    "outputId": "8175ce27-4a00-47b3-d835-5f4396ffb715"
   },
   "outputs": [
    {
     "data": {
      "image/png": "[encoded data removed]",
      "text/plain": [
       "<Figure size 1152x576 with 1 Axes>"
      ]
     },
     "metadata": {
      "needs_background": "light"
     },
     "output_type": "display_data"
    }
   ],
   "source": [
    "plt.figure(figsize=(16,8))\n",
    "plt.title('Tesla')\n",
    "plt.xlabel('Date', fontsize=18)\n",
    "plt.ylabel('Adj Close Price USD ($)', fontsize=18)\n",
    "plt.plot(df_past['Adj Close'])\n",
    "plt.plot(df_future['Forecast'])\n",
    "plt.legend(['Adj Close', 'Forecast'], loc='lower right')\n",
    "plt.show()"
   ]
  },
  {
   "cell_type": "code",
   "execution_count": 32,
   "id": "hyaUwDCfmUk7",
   "metadata": {
    "colab": {
     "base_uri": "https://localhost:8080/",
     "height": 455
    },
    "executionInfo": {
     "elapsed": 50,
     "status": "ok",
     "timestamp": 1675807540542,
     "user": {
      "displayName": "Miral Changela",
      "userId": "17500895624112848603"
     },
     "user_tz": 300
    },
    "id": "hyaUwDCfmUk7",
    "outputId": "04130495-339f-4a05-858f-8aed6ce228c7"
   },
   "outputs": [
    {
     "data": {
      "text/html": [
       "\n",
       "  <div id=\"df-3c7e9348-4796-443f-a116-4cc3329cf51b\">\n",
       "    <div class=\"colab-df-container\">\n",
       "      <div>\n",
       "<style scoped>\n",
       "    .dataframe tbody tr th:only-of-type {\n",
       "        vertical-align: middle;\n",
       "    }\n",
       "\n",
       "    .dataframe tbody tr th {\n",
       "        vertical-align: top;\n",
       "    }\n",
       "\n",
       "    .dataframe thead th {\n",
       "        text-align: right;\n",
       "    }\n",
       "</style>\n",
       "<table border=\"1\" class=\"dataframe\">\n",
       "  <thead>\n",
       "    <tr style=\"text-align: right;\">\n",
       "      <th></th>\n",
       "      <th>Adj Close</th>\n",
       "      <th>Forecast</th>\n",
       "    </tr>\n",
       "    <tr>\n",
       "      <th>Date</th>\n",
       "      <th></th>\n",
       "      <th></th>\n",
       "    </tr>\n",
       "  </thead>\n",
       "  <tbody>\n",
       "    <tr>\n",
       "      <th>2018-02-07</th>\n",
       "      <td>23.000000</td>\n",
       "      <td>NaN</td>\n",
       "    </tr>\n",
       "    <tr>\n",
       "      <th>2018-02-08</th>\n",
       "      <td>21.015333</td>\n",
       "      <td>NaN</td>\n",
       "    </tr>\n",
       "    <tr>\n",
       "      <th>2018-02-09</th>\n",
       "      <td>20.694668</td>\n",
       "      <td>NaN</td>\n",
       "    </tr>\n",
       "    <tr>\n",
       "      <th>2018-02-12</th>\n",
       "      <td>21.048668</td>\n",
       "      <td>NaN</td>\n",
       "    </tr>\n",
       "    <tr>\n",
       "      <th>2018-02-13</th>\n",
       "      <td>21.577333</td>\n",
       "      <td>NaN</td>\n",
       "    </tr>\n",
       "    <tr>\n",
       "      <th>...</th>\n",
       "      <td>...</td>\n",
       "      <td>...</td>\n",
       "    </tr>\n",
       "    <tr>\n",
       "      <th>2023-04-25</th>\n",
       "      <td>NaN</td>\n",
       "      <td>239.268250</td>\n",
       "    </tr>\n",
       "    <tr>\n",
       "      <th>2023-04-26</th>\n",
       "      <td>NaN</td>\n",
       "      <td>230.907410</td>\n",
       "    </tr>\n",
       "    <tr>\n",
       "      <th>2023-04-27</th>\n",
       "      <td>NaN</td>\n",
       "      <td>225.735840</td>\n",
       "    </tr>\n",
       "    <tr>\n",
       "      <th>2023-04-28</th>\n",
       "      <td>NaN</td>\n",
       "      <td>226.648376</td>\n",
       "    </tr>\n",
       "    <tr>\n",
       "      <th>2023-05-01</th>\n",
       "      <td>NaN</td>\n",
       "      <td>219.266190</td>\n",
       "    </tr>\n",
       "  </tbody>\n",
       "</table>\n",
       "<p>1318 rows × 2 columns</p>\n",
       "</div>\n",
       "      <button class=\"colab-df-convert\" onclick=\"convertToInteractive('df-3c7e9348-4796-443f-a116-4cc3329cf51b')\"\n",
       "              title=\"Convert this dataframe to an interactive table.\"\n",
       "              style=\"display:none;\">\n",
       "        \n",
       "  <svg xmlns=\"http://www.w3.org/2000/svg\" height=\"24px\"viewBox=\"0 0 24 24\"\n",
       "       width=\"24px\">\n",
       "    <path d=\"M0 0h24v24H0V0z\" fill=\"none\"/>\n",
       "    <path d=\"M18.56 5.44l.94 2.06.94-2.06 2.06-.94-2.06-.94-.94-2.06-.94 2.06-2.06.94zm-11 1L8.5 8.5l.94-2.06 2.06-.94-2.06-.94L8.5 2.5l-.94 2.06-2.06.94zm10 10l.94 2.06.94-2.06 2.06-.94-2.06-.94-.94-2.06-.94 2.06-2.06.94z\"/><path d=\"M17.41 7.96l-1.37-1.37c-.4-.4-.92-.59-1.43-.59-.52 0-1.04.2-1.43.59L10.3 9.45l-7.72 7.72c-.78.78-.78 2.05 0 2.83L4 21.41c.39.39.9.59 1.41.59.51 0 1.02-.2 1.41-.59l7.78-7.78 2.81-2.81c.8-.78.8-2.07 0-2.86zM5.41 20L4 18.59l7.72-7.72 1.47 1.35L5.41 20z\"/>\n",
       "  </svg>\n",
       "      </button>\n",
       "      \n",
       "  <style>\n",
       "    .colab-df-container {\n",
       "      display:flex;\n",
       "      flex-wrap:wrap;\n",
       "      gap: 12px;\n",
       "    }\n",
       "\n",
       "    .colab-df-convert {\n",
       "      background-color: #E8F0FE;\n",
       "      border: none;\n",
       "      border-radius: 50%;\n",
       "      cursor: pointer;\n",
       "      display: none;\n",
       "      fill: #1967D2;\n",
       "      height: 32px;\n",
       "      padding: 0 0 0 0;\n",
       "      width: 32px;\n",
       "    }\n",
       "\n",
       "    .colab-df-convert:hover {\n",
       "      background-color: #E2EBFA;\n",
       "      box-shadow: 0px 1px 2px rgba(60, 64, 67, 0.3), 0px 1px 3px 1px rgba(60, 64, 67, 0.15);\n",
       "      fill: #174EA6;\n",
       "    }\n",
       "\n",
       "    [theme=dark] .colab-df-convert {\n",
       "      background-color: #3B4455;\n",
       "      fill: #D2E3FC;\n",
       "    }\n",
       "\n",
       "    [theme=dark] .colab-df-convert:hover {\n",
       "      background-color: #434B5C;\n",
       "      box-shadow: 0px 1px 3px 1px rgba(0, 0, 0, 0.15);\n",
       "      filter: drop-shadow(0px 1px 2px rgba(0, 0, 0, 0.3));\n",
       "      fill: #FFFFFF;\n",
       "    }\n",
       "  </style>\n",
       "\n",
       "      <script>\n",
       "        const buttonEl =\n",
       "          document.querySelector('#df-3c7e9348-4796-443f-a116-4cc3329cf51b button.colab-df-convert');\n",
       "        buttonEl.style.display =\n",
       "          google.colab.kernel.accessAllowed ? 'block' : 'none';\n",
       "\n",
       "        async function convertToInteractive(key) {\n",
       "          const element = document.querySelector('#df-3c7e9348-4796-443f-a116-4cc3329cf51b');\n",
       "          const dataTable =\n",
       "            await google.colab.kernel.invokeFunction('convertToInteractive',\n",
       "                                                     [key], {});\n",
       "          if (!dataTable) return;\n",
       "\n",
       "          const docLinkHtml = 'Like what you see? Visit the ' +\n",
       "            '<a target=\"_blank\" href=https://colab.research.google.com/notebooks/data_table.ipynb>data table notebook</a>'\n",
       "            + ' to learn more about interactive tables.';\n",
       "          element.innerHTML = '';\n",
       "          dataTable['output_type'] = 'display_data';\n",
       "          await google.colab.output.renderOutput(dataTable, element);\n",
       "          const docLink = document.createElement('div');\n",
       "          docLink.innerHTML = docLinkHtml;\n",
       "          element.appendChild(docLink);\n",
       "        }\n",
       "      </script>\n",
       "    </div>\n",
       "  </div>\n",
       "  "
      ],
      "text/plain": [
       "            Adj Close    Forecast\n",
       "Date                             \n",
       "2018-02-07  23.000000         NaN\n",
       "2018-02-08  21.015333         NaN\n",
       "2018-02-09  20.694668         NaN\n",
       "2018-02-12  21.048668         NaN\n",
       "2018-02-13  21.577333         NaN\n",
       "...               ...         ...\n",
       "2023-04-25        NaN  239.268250\n",
       "2023-04-26        NaN  230.907410\n",
       "2023-04-27        NaN  225.735840\n",
       "2023-04-28        NaN  226.648376\n",
       "2023-05-01        NaN  219.266190\n",
       "\n",
       "[1318 rows x 2 columns]"
      ]
     },
     "execution_count": 32,
     "metadata": {},
     "output_type": "execute_result"
    }
   ],
   "source": [
    "Results"
   ]
  }
 ],
 "metadata": {
  "colab": {
   "provenance": []
  },
  "kernelspec": {
   "display_name": "Python 3",
   "language": "python",
   "name": "python3"
  },
  "language_info": {
   "codemirror_mode": {
    "name": "ipython",
    "version": 3
   },
   "file_extension": ".py",
   "mimetype": "text/x-python",
   "name": "python",
   "nbconvert_exporter": "python",
   "pygments_lexer": "ipython3",
   "version": "3.8.8"
  }
 },
 "nbformat": 4,
 "nbformat_minor": 5
}
