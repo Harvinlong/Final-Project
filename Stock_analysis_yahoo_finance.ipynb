{
 "cells": [
  {
   "cell_type": "code",
   "execution_count": 1,
   "id": "33b499bd",
   "metadata": {},
   "outputs": [
    {
     "name": "stderr",
     "output_type": "stream",
     "text": [
      "C:\\Users\\Miral\\anaconda3\\lib\\site-packages\\scipy\\__init__.py:138: UserWarning: A NumPy version >=1.16.5 and <1.23.0 is required for this version of SciPy (detected version 1.24.1)\n",
      "  warnings.warn(f\"A NumPy version >={np_minversion} and <{np_maxversion} is required for this version of \"\n"
     ]
    }
   ],
   "source": [
    "import yfinance as yf\n",
    "import numpy as np\n",
    "import pandas as pd\n",
    "import matplotlib.pyplot as plt\n",
    "from matplotlib import pyplot\n",
    "from sklearn.ensemble import RandomForestRegressor\n",
    "from sklearn.metrics import mean_squared_error, mean_absolute_error\n",
    "from sklearn.model_selection import ParameterGrid\n",
    "from sklearn import metrics\n",
    "from datetime import datetime\n",
    "import warnings\n",
    "warnings.filterwarnings(\"ignore\")\n",
    "%matplotlib inline"
   ]
  },
  {
   "cell_type": "code",
   "execution_count": 2,
   "id": "1e9834f6",
   "metadata": {},
   "outputs": [],
   "source": [
    "google_df = pd.read_csv(\"Resources/Google.csv\")\n",
    "Amazon_df = pd.read_csv(\"Resources/Amazon.csv\")\n",
    "Facebook_df = pd.read_csv(\"Resources/Facebook.csv\")\n",
    "Apple_df = pd.read_csv(\"Resources/Apple.csv\")\n",
    "Microsoft_df = pd.read_csv(\"Resources/Microsoft.csv\")\n",
    "Netflix_df = pd.read_csv(\"Resources/Netflix.csv\")\n",
    "Tesla_df = pd.read_csv(\"Resources/Tesla.csv\")"
   ]
  },
  {
   "cell_type": "code",
   "execution_count": 3,
   "id": "cb02e08a",
   "metadata": {
    "scrolled": true
   },
   "outputs": [
    {
     "name": "stdout",
     "output_type": "stream",
     "text": [
      "<class 'pandas.core.frame.DataFrame'>\n",
      "RangeIndex: 252 entries, 0 to 251\n",
      "Data columns (total 7 columns):\n",
      " #   Column     Non-Null Count  Dtype  \n",
      "---  ------     --------------  -----  \n",
      " 0   Date       252 non-null    object \n",
      " 1   Open       252 non-null    float64\n",
      " 2   High       252 non-null    float64\n",
      " 3   Low        252 non-null    float64\n",
      " 4   Close      252 non-null    float64\n",
      " 5   Adj Close  252 non-null    float64\n",
      " 6   Volume     252 non-null    int64  \n",
      "dtypes: float64(5), int64(1), object(1)\n",
      "memory usage: 13.9+ KB\n"
     ]
    }
   ],
   "source": [
    "google_df.info()"
   ]
  },
  {
   "cell_type": "code",
   "execution_count": 4,
   "id": "2c1b1cb3",
   "metadata": {},
   "outputs": [],
   "source": [
    "# Use pandas.to_datetime() to convert string to datetime format\n",
    "google_df[\"Date\"] = pd.to_datetime(google_df[\"Date\"])"
   ]
  },
  {
   "cell_type": "code",
   "execution_count": 5,
   "id": "96cabe32",
   "metadata": {},
   "outputs": [
    {
     "data": {
      "text/html": [
       "<div>\n",
       "<style scoped>\n",
       "    .dataframe tbody tr th:only-of-type {\n",
       "        vertical-align: middle;\n",
       "    }\n",
       "\n",
       "    .dataframe tbody tr th {\n",
       "        vertical-align: top;\n",
       "    }\n",
       "\n",
       "    .dataframe thead th {\n",
       "        text-align: right;\n",
       "    }\n",
       "</style>\n",
       "<table border=\"1\" class=\"dataframe\">\n",
       "  <thead>\n",
       "    <tr style=\"text-align: right;\">\n",
       "      <th></th>\n",
       "      <th>Open</th>\n",
       "      <th>High</th>\n",
       "      <th>Low</th>\n",
       "      <th>Close</th>\n",
       "      <th>Adj Close</th>\n",
       "      <th>Volume</th>\n",
       "    </tr>\n",
       "    <tr>\n",
       "      <th>Date</th>\n",
       "      <th></th>\n",
       "      <th></th>\n",
       "      <th></th>\n",
       "      <th></th>\n",
       "      <th></th>\n",
       "      <th></th>\n",
       "    </tr>\n",
       "  </thead>\n",
       "  <tbody>\n",
       "    <tr>\n",
       "      <th>2022-01-24 00:00:00-05:00</th>\n",
       "      <td>125.977997</td>\n",
       "      <td>131.203003</td>\n",
       "      <td>124.500000</td>\n",
       "      <td>130.804001</td>\n",
       "      <td>130.804001</td>\n",
       "      <td>76622000</td>\n",
       "    </tr>\n",
       "    <tr>\n",
       "      <th>2022-01-25 00:00:00-05:00</th>\n",
       "      <td>128.740005</td>\n",
       "      <td>129.399002</td>\n",
       "      <td>126.500504</td>\n",
       "      <td>126.934998</td>\n",
       "      <td>126.934998</td>\n",
       "      <td>46960000</td>\n",
       "    </tr>\n",
       "    <tr>\n",
       "      <th>2022-01-26 00:00:00-05:00</th>\n",
       "      <td>131.119003</td>\n",
       "      <td>133.000000</td>\n",
       "      <td>127.141998</td>\n",
       "      <td>129.233002</td>\n",
       "      <td>129.233002</td>\n",
       "      <td>49130000</td>\n",
       "    </tr>\n",
       "    <tr>\n",
       "      <th>2022-01-27 00:00:00-05:00</th>\n",
       "      <td>131.304001</td>\n",
       "      <td>132.652496</td>\n",
       "      <td>128.932495</td>\n",
       "      <td>129.005005</td>\n",
       "      <td>129.005005</td>\n",
       "      <td>31950000</td>\n",
       "    </tr>\n",
       "    <tr>\n",
       "      <th>2022-01-28 00:00:00-05:00</th>\n",
       "      <td>129.658997</td>\n",
       "      <td>133.356506</td>\n",
       "      <td>128.485001</td>\n",
       "      <td>133.350998</td>\n",
       "      <td>133.350998</td>\n",
       "      <td>34362000</td>\n",
       "    </tr>\n",
       "  </tbody>\n",
       "</table>\n",
       "</div>"
      ],
      "text/plain": [
       "                                 Open        High         Low       Close  \\\n",
       "Date                                                                        \n",
       "2022-01-24 00:00:00-05:00  125.977997  131.203003  124.500000  130.804001   \n",
       "2022-01-25 00:00:00-05:00  128.740005  129.399002  126.500504  126.934998   \n",
       "2022-01-26 00:00:00-05:00  131.119003  133.000000  127.141998  129.233002   \n",
       "2022-01-27 00:00:00-05:00  131.304001  132.652496  128.932495  129.005005   \n",
       "2022-01-28 00:00:00-05:00  129.658997  133.356506  128.485001  133.350998   \n",
       "\n",
       "                            Adj Close    Volume  \n",
       "Date                                             \n",
       "2022-01-24 00:00:00-05:00  130.804001  76622000  \n",
       "2022-01-25 00:00:00-05:00  126.934998  46960000  \n",
       "2022-01-26 00:00:00-05:00  129.233002  49130000  \n",
       "2022-01-27 00:00:00-05:00  129.005005  31950000  \n",
       "2022-01-28 00:00:00-05:00  133.350998  34362000  "
      ]
     },
     "execution_count": 5,
     "metadata": {},
     "output_type": "execute_result"
    }
   ],
   "source": [
    "google_df = google_df.set_index('Date')\n",
    "google_df.head()"
   ]
  },
  {
   "cell_type": "code",
   "execution_count": 6,
   "id": "87e8ad3a",
   "metadata": {},
   "outputs": [],
   "source": [
    "# Moving Average : a moving average (rolling average or running average) is a calculation to analyze data points by \n",
    "#creating a series of averages of different subsets of the full data set.\n",
    "# here we are taking number of days for calculation of MA\n",
    "\n",
    "ma_days  = [10,50,100]\n",
    "\n",
    "for ma in ma_days:\n",
    "    column_name = f\"MA for {ma} days\"\n",
    "    google_df[column_name] = google_df[\"Adj Close\"].rolling(ma).mean()\n",
    "    "
   ]
  },
  {
   "cell_type": "code",
   "execution_count": 7,
   "id": "df6b87be",
   "metadata": {
    "scrolled": true
   },
   "outputs": [
    {
     "data": {
      "text/html": [
       "<div>\n",
       "<style scoped>\n",
       "    .dataframe tbody tr th:only-of-type {\n",
       "        vertical-align: middle;\n",
       "    }\n",
       "\n",
       "    .dataframe tbody tr th {\n",
       "        vertical-align: top;\n",
       "    }\n",
       "\n",
       "    .dataframe thead th {\n",
       "        text-align: right;\n",
       "    }\n",
       "</style>\n",
       "<table border=\"1\" class=\"dataframe\">\n",
       "  <thead>\n",
       "    <tr style=\"text-align: right;\">\n",
       "      <th></th>\n",
       "      <th>Open</th>\n",
       "      <th>High</th>\n",
       "      <th>Low</th>\n",
       "      <th>Close</th>\n",
       "      <th>Adj Close</th>\n",
       "      <th>Volume</th>\n",
       "      <th>MA for 10 days</th>\n",
       "      <th>MA for 50 days</th>\n",
       "      <th>MA for 100 days</th>\n",
       "    </tr>\n",
       "    <tr>\n",
       "      <th>Date</th>\n",
       "      <th></th>\n",
       "      <th></th>\n",
       "      <th></th>\n",
       "      <th></th>\n",
       "      <th></th>\n",
       "      <th></th>\n",
       "      <th></th>\n",
       "      <th></th>\n",
       "      <th></th>\n",
       "    </tr>\n",
       "  </thead>\n",
       "  <tbody>\n",
       "    <tr>\n",
       "      <th>2022-01-24 00:00:00-05:00</th>\n",
       "      <td>125.977997</td>\n",
       "      <td>131.203003</td>\n",
       "      <td>124.500000</td>\n",
       "      <td>130.804001</td>\n",
       "      <td>130.804001</td>\n",
       "      <td>76622000</td>\n",
       "      <td>NaN</td>\n",
       "      <td>NaN</td>\n",
       "      <td>NaN</td>\n",
       "    </tr>\n",
       "    <tr>\n",
       "      <th>2022-01-25 00:00:00-05:00</th>\n",
       "      <td>128.740005</td>\n",
       "      <td>129.399002</td>\n",
       "      <td>126.500504</td>\n",
       "      <td>126.934998</td>\n",
       "      <td>126.934998</td>\n",
       "      <td>46960000</td>\n",
       "      <td>NaN</td>\n",
       "      <td>NaN</td>\n",
       "      <td>NaN</td>\n",
       "    </tr>\n",
       "    <tr>\n",
       "      <th>2022-01-26 00:00:00-05:00</th>\n",
       "      <td>131.119003</td>\n",
       "      <td>133.000000</td>\n",
       "      <td>127.141998</td>\n",
       "      <td>129.233002</td>\n",
       "      <td>129.233002</td>\n",
       "      <td>49130000</td>\n",
       "      <td>NaN</td>\n",
       "      <td>NaN</td>\n",
       "      <td>NaN</td>\n",
       "    </tr>\n",
       "    <tr>\n",
       "      <th>2022-01-27 00:00:00-05:00</th>\n",
       "      <td>131.304001</td>\n",
       "      <td>132.652496</td>\n",
       "      <td>128.932495</td>\n",
       "      <td>129.005005</td>\n",
       "      <td>129.005005</td>\n",
       "      <td>31950000</td>\n",
       "      <td>NaN</td>\n",
       "      <td>NaN</td>\n",
       "      <td>NaN</td>\n",
       "    </tr>\n",
       "    <tr>\n",
       "      <th>2022-01-28 00:00:00-05:00</th>\n",
       "      <td>129.658997</td>\n",
       "      <td>133.356506</td>\n",
       "      <td>128.485001</td>\n",
       "      <td>133.350998</td>\n",
       "      <td>133.350998</td>\n",
       "      <td>34362000</td>\n",
       "      <td>NaN</td>\n",
       "      <td>NaN</td>\n",
       "      <td>NaN</td>\n",
       "    </tr>\n",
       "    <tr>\n",
       "      <th>2022-01-31 00:00:00-05:00</th>\n",
       "      <td>134.162003</td>\n",
       "      <td>135.473007</td>\n",
       "      <td>132.209503</td>\n",
       "      <td>135.303497</td>\n",
       "      <td>135.303497</td>\n",
       "      <td>39986000</td>\n",
       "      <td>NaN</td>\n",
       "      <td>NaN</td>\n",
       "      <td>NaN</td>\n",
       "    </tr>\n",
       "    <tr>\n",
       "      <th>2022-02-01 00:00:00-05:00</th>\n",
       "      <td>137.594498</td>\n",
       "      <td>137.792999</td>\n",
       "      <td>134.368500</td>\n",
       "      <td>137.643997</td>\n",
       "      <td>137.643997</td>\n",
       "      <td>68644000</td>\n",
       "      <td>NaN</td>\n",
       "      <td>NaN</td>\n",
       "      <td>NaN</td>\n",
       "    </tr>\n",
       "    <tr>\n",
       "      <th>2022-02-02 00:00:00-05:00</th>\n",
       "      <td>151.250000</td>\n",
       "      <td>151.546494</td>\n",
       "      <td>145.522507</td>\n",
       "      <td>148.000000</td>\n",
       "      <td>148.000000</td>\n",
       "      <td>123200000</td>\n",
       "      <td>NaN</td>\n",
       "      <td>NaN</td>\n",
       "      <td>NaN</td>\n",
       "    </tr>\n",
       "    <tr>\n",
       "      <th>2022-02-03 00:00:00-05:00</th>\n",
       "      <td>145.705505</td>\n",
       "      <td>149.675003</td>\n",
       "      <td>142.665497</td>\n",
       "      <td>143.089996</td>\n",
       "      <td>143.089996</td>\n",
       "      <td>71518000</td>\n",
       "      <td>NaN</td>\n",
       "      <td>NaN</td>\n",
       "      <td>NaN</td>\n",
       "    </tr>\n",
       "    <tr>\n",
       "      <th>2022-02-04 00:00:00-05:00</th>\n",
       "      <td>143.444504</td>\n",
       "      <td>144.875000</td>\n",
       "      <td>140.514999</td>\n",
       "      <td>143.292999</td>\n",
       "      <td>143.292999</td>\n",
       "      <td>57998000</td>\n",
       "      <td>135.665849</td>\n",
       "      <td>NaN</td>\n",
       "      <td>NaN</td>\n",
       "    </tr>\n",
       "    <tr>\n",
       "      <th>2022-02-07 00:00:00-05:00</th>\n",
       "      <td>144.250000</td>\n",
       "      <td>144.250000</td>\n",
       "      <td>138.899994</td>\n",
       "      <td>139.201004</td>\n",
       "      <td>139.201004</td>\n",
       "      <td>54974000</td>\n",
       "      <td>136.505550</td>\n",
       "      <td>NaN</td>\n",
       "      <td>NaN</td>\n",
       "    </tr>\n",
       "    <tr>\n",
       "      <th>2022-02-08 00:00:00-05:00</th>\n",
       "      <td>139.026505</td>\n",
       "      <td>140.000000</td>\n",
       "      <td>137.014008</td>\n",
       "      <td>139.399002</td>\n",
       "      <td>139.399002</td>\n",
       "      <td>54284000</td>\n",
       "      <td>137.751950</td>\n",
       "      <td>NaN</td>\n",
       "      <td>NaN</td>\n",
       "    </tr>\n",
       "    <tr>\n",
       "      <th>2022-02-09 00:00:00-05:00</th>\n",
       "      <td>140.963501</td>\n",
       "      <td>142.524506</td>\n",
       "      <td>140.186996</td>\n",
       "      <td>141.591995</td>\n",
       "      <td>141.591995</td>\n",
       "      <td>40144000</td>\n",
       "      <td>138.987849</td>\n",
       "      <td>NaN</td>\n",
       "      <td>NaN</td>\n",
       "    </tr>\n",
       "    <tr>\n",
       "      <th>2022-02-10 00:00:00-05:00</th>\n",
       "      <td>139.703506</td>\n",
       "      <td>141.484497</td>\n",
       "      <td>137.957001</td>\n",
       "      <td>138.619995</td>\n",
       "      <td>138.619995</td>\n",
       "      <td>39330000</td>\n",
       "      <td>139.949348</td>\n",
       "      <td>NaN</td>\n",
       "      <td>NaN</td>\n",
       "    </tr>\n",
       "    <tr>\n",
       "      <th>2022-02-11 00:00:00-05:00</th>\n",
       "      <td>138.600006</td>\n",
       "      <td>139.156494</td>\n",
       "      <td>133.399994</td>\n",
       "      <td>134.282501</td>\n",
       "      <td>134.282501</td>\n",
       "      <td>39958000</td>\n",
       "      <td>140.042499</td>\n",
       "      <td>NaN</td>\n",
       "      <td>NaN</td>\n",
       "    </tr>\n",
       "    <tr>\n",
       "      <th>2022-02-14 00:00:00-05:00</th>\n",
       "      <td>133.256500</td>\n",
       "      <td>136.300003</td>\n",
       "      <td>133.256500</td>\n",
       "      <td>135.526001</td>\n",
       "      <td>135.526001</td>\n",
       "      <td>34302000</td>\n",
       "      <td>140.064749</td>\n",
       "      <td>NaN</td>\n",
       "      <td>NaN</td>\n",
       "    </tr>\n",
       "    <tr>\n",
       "      <th>2022-02-15 00:00:00-05:00</th>\n",
       "      <td>137.570496</td>\n",
       "      <td>138.108505</td>\n",
       "      <td>135.821503</td>\n",
       "      <td>136.608505</td>\n",
       "      <td>136.608505</td>\n",
       "      <td>26680000</td>\n",
       "      <td>139.961200</td>\n",
       "      <td>NaN</td>\n",
       "      <td>NaN</td>\n",
       "    </tr>\n",
       "    <tr>\n",
       "      <th>2022-02-16 00:00:00-05:00</th>\n",
       "      <td>136.646500</td>\n",
       "      <td>138.085999</td>\n",
       "      <td>134.923996</td>\n",
       "      <td>137.738007</td>\n",
       "      <td>137.738007</td>\n",
       "      <td>25022000</td>\n",
       "      <td>138.935001</td>\n",
       "      <td>NaN</td>\n",
       "      <td>NaN</td>\n",
       "    </tr>\n",
       "    <tr>\n",
       "      <th>2022-02-17 00:00:00-05:00</th>\n",
       "      <td>136.242996</td>\n",
       "      <td>137.113495</td>\n",
       "      <td>132.478500</td>\n",
       "      <td>132.539001</td>\n",
       "      <td>132.539001</td>\n",
       "      <td>38950000</td>\n",
       "      <td>137.879901</td>\n",
       "      <td>NaN</td>\n",
       "      <td>NaN</td>\n",
       "    </tr>\n",
       "    <tr>\n",
       "      <th>2022-02-18 00:00:00-05:00</th>\n",
       "      <td>133.466995</td>\n",
       "      <td>134.070007</td>\n",
       "      <td>130.196503</td>\n",
       "      <td>130.403000</td>\n",
       "      <td>130.403000</td>\n",
       "      <td>45620000</td>\n",
       "      <td>136.590901</td>\n",
       "      <td>NaN</td>\n",
       "      <td>NaN</td>\n",
       "    </tr>\n",
       "    <tr>\n",
       "      <th>2022-02-22 00:00:00-05:00</th>\n",
       "      <td>129.837997</td>\n",
       "      <td>132.180496</td>\n",
       "      <td>128.223495</td>\n",
       "      <td>129.813507</td>\n",
       "      <td>129.813507</td>\n",
       "      <td>44990000</td>\n",
       "      <td>135.652151</td>\n",
       "      <td>NaN</td>\n",
       "      <td>NaN</td>\n",
       "    </tr>\n",
       "    <tr>\n",
       "      <th>2022-02-23 00:00:00-05:00</th>\n",
       "      <td>131.648499</td>\n",
       "      <td>132.050995</td>\n",
       "      <td>127.527496</td>\n",
       "      <td>127.587997</td>\n",
       "      <td>127.587997</td>\n",
       "      <td>32786000</td>\n",
       "      <td>134.471051</td>\n",
       "      <td>NaN</td>\n",
       "      <td>NaN</td>\n",
       "    </tr>\n",
       "    <tr>\n",
       "      <th>2022-02-24 00:00:00-05:00</th>\n",
       "      <td>124.953499</td>\n",
       "      <td>133.000000</td>\n",
       "      <td>124.953499</td>\n",
       "      <td>132.690994</td>\n",
       "      <td>132.690994</td>\n",
       "      <td>54456000</td>\n",
       "      <td>133.580951</td>\n",
       "      <td>NaN</td>\n",
       "      <td>NaN</td>\n",
       "    </tr>\n",
       "    <tr>\n",
       "      <th>2022-02-25 00:00:00-05:00</th>\n",
       "      <td>133.552002</td>\n",
       "      <td>135.271500</td>\n",
       "      <td>131.751495</td>\n",
       "      <td>134.459503</td>\n",
       "      <td>134.459503</td>\n",
       "      <td>36406000</td>\n",
       "      <td>133.164902</td>\n",
       "      <td>NaN</td>\n",
       "      <td>NaN</td>\n",
       "    </tr>\n",
       "    <tr>\n",
       "      <th>2022-02-28 00:00:00-05:00</th>\n",
       "      <td>133.050003</td>\n",
       "      <td>135.751495</td>\n",
       "      <td>132.592499</td>\n",
       "      <td>135.057007</td>\n",
       "      <td>135.057007</td>\n",
       "      <td>38864000</td>\n",
       "      <td>133.242352</td>\n",
       "      <td>NaN</td>\n",
       "      <td>NaN</td>\n",
       "    </tr>\n",
       "  </tbody>\n",
       "</table>\n",
       "</div>"
      ],
      "text/plain": [
       "                                 Open        High         Low       Close  \\\n",
       "Date                                                                        \n",
       "2022-01-24 00:00:00-05:00  125.977997  131.203003  124.500000  130.804001   \n",
       "2022-01-25 00:00:00-05:00  128.740005  129.399002  126.500504  126.934998   \n",
       "2022-01-26 00:00:00-05:00  131.119003  133.000000  127.141998  129.233002   \n",
       "2022-01-27 00:00:00-05:00  131.304001  132.652496  128.932495  129.005005   \n",
       "2022-01-28 00:00:00-05:00  129.658997  133.356506  128.485001  133.350998   \n",
       "2022-01-31 00:00:00-05:00  134.162003  135.473007  132.209503  135.303497   \n",
       "2022-02-01 00:00:00-05:00  137.594498  137.792999  134.368500  137.643997   \n",
       "2022-02-02 00:00:00-05:00  151.250000  151.546494  145.522507  148.000000   \n",
       "2022-02-03 00:00:00-05:00  145.705505  149.675003  142.665497  143.089996   \n",
       "2022-02-04 00:00:00-05:00  143.444504  144.875000  140.514999  143.292999   \n",
       "2022-02-07 00:00:00-05:00  144.250000  144.250000  138.899994  139.201004   \n",
       "2022-02-08 00:00:00-05:00  139.026505  140.000000  137.014008  139.399002   \n",
       "2022-02-09 00:00:00-05:00  140.963501  142.524506  140.186996  141.591995   \n",
       "2022-02-10 00:00:00-05:00  139.703506  141.484497  137.957001  138.619995   \n",
       "2022-02-11 00:00:00-05:00  138.600006  139.156494  133.399994  134.282501   \n",
       "2022-02-14 00:00:00-05:00  133.256500  136.300003  133.256500  135.526001   \n",
       "2022-02-15 00:00:00-05:00  137.570496  138.108505  135.821503  136.608505   \n",
       "2022-02-16 00:00:00-05:00  136.646500  138.085999  134.923996  137.738007   \n",
       "2022-02-17 00:00:00-05:00  136.242996  137.113495  132.478500  132.539001   \n",
       "2022-02-18 00:00:00-05:00  133.466995  134.070007  130.196503  130.403000   \n",
       "2022-02-22 00:00:00-05:00  129.837997  132.180496  128.223495  129.813507   \n",
       "2022-02-23 00:00:00-05:00  131.648499  132.050995  127.527496  127.587997   \n",
       "2022-02-24 00:00:00-05:00  124.953499  133.000000  124.953499  132.690994   \n",
       "2022-02-25 00:00:00-05:00  133.552002  135.271500  131.751495  134.459503   \n",
       "2022-02-28 00:00:00-05:00  133.050003  135.751495  132.592499  135.057007   \n",
       "\n",
       "                            Adj Close     Volume  MA for 10 days  \\\n",
       "Date                                                               \n",
       "2022-01-24 00:00:00-05:00  130.804001   76622000             NaN   \n",
       "2022-01-25 00:00:00-05:00  126.934998   46960000             NaN   \n",
       "2022-01-26 00:00:00-05:00  129.233002   49130000             NaN   \n",
       "2022-01-27 00:00:00-05:00  129.005005   31950000             NaN   \n",
       "2022-01-28 00:00:00-05:00  133.350998   34362000             NaN   \n",
       "2022-01-31 00:00:00-05:00  135.303497   39986000             NaN   \n",
       "2022-02-01 00:00:00-05:00  137.643997   68644000             NaN   \n",
       "2022-02-02 00:00:00-05:00  148.000000  123200000             NaN   \n",
       "2022-02-03 00:00:00-05:00  143.089996   71518000             NaN   \n",
       "2022-02-04 00:00:00-05:00  143.292999   57998000      135.665849   \n",
       "2022-02-07 00:00:00-05:00  139.201004   54974000      136.505550   \n",
       "2022-02-08 00:00:00-05:00  139.399002   54284000      137.751950   \n",
       "2022-02-09 00:00:00-05:00  141.591995   40144000      138.987849   \n",
       "2022-02-10 00:00:00-05:00  138.619995   39330000      139.949348   \n",
       "2022-02-11 00:00:00-05:00  134.282501   39958000      140.042499   \n",
       "2022-02-14 00:00:00-05:00  135.526001   34302000      140.064749   \n",
       "2022-02-15 00:00:00-05:00  136.608505   26680000      139.961200   \n",
       "2022-02-16 00:00:00-05:00  137.738007   25022000      138.935001   \n",
       "2022-02-17 00:00:00-05:00  132.539001   38950000      137.879901   \n",
       "2022-02-18 00:00:00-05:00  130.403000   45620000      136.590901   \n",
       "2022-02-22 00:00:00-05:00  129.813507   44990000      135.652151   \n",
       "2022-02-23 00:00:00-05:00  127.587997   32786000      134.471051   \n",
       "2022-02-24 00:00:00-05:00  132.690994   54456000      133.580951   \n",
       "2022-02-25 00:00:00-05:00  134.459503   36406000      133.164902   \n",
       "2022-02-28 00:00:00-05:00  135.057007   38864000      133.242352   \n",
       "\n",
       "                           MA for 50 days  MA for 100 days  \n",
       "Date                                                        \n",
       "2022-01-24 00:00:00-05:00             NaN              NaN  \n",
       "2022-01-25 00:00:00-05:00             NaN              NaN  \n",
       "2022-01-26 00:00:00-05:00             NaN              NaN  \n",
       "2022-01-27 00:00:00-05:00             NaN              NaN  \n",
       "2022-01-28 00:00:00-05:00             NaN              NaN  \n",
       "2022-01-31 00:00:00-05:00             NaN              NaN  \n",
       "2022-02-01 00:00:00-05:00             NaN              NaN  \n",
       "2022-02-02 00:00:00-05:00             NaN              NaN  \n",
       "2022-02-03 00:00:00-05:00             NaN              NaN  \n",
       "2022-02-04 00:00:00-05:00             NaN              NaN  \n",
       "2022-02-07 00:00:00-05:00             NaN              NaN  \n",
       "2022-02-08 00:00:00-05:00             NaN              NaN  \n",
       "2022-02-09 00:00:00-05:00             NaN              NaN  \n",
       "2022-02-10 00:00:00-05:00             NaN              NaN  \n",
       "2022-02-11 00:00:00-05:00             NaN              NaN  \n",
       "2022-02-14 00:00:00-05:00             NaN              NaN  \n",
       "2022-02-15 00:00:00-05:00             NaN              NaN  \n",
       "2022-02-16 00:00:00-05:00             NaN              NaN  \n",
       "2022-02-17 00:00:00-05:00             NaN              NaN  \n",
       "2022-02-18 00:00:00-05:00             NaN              NaN  \n",
       "2022-02-22 00:00:00-05:00             NaN              NaN  \n",
       "2022-02-23 00:00:00-05:00             NaN              NaN  \n",
       "2022-02-24 00:00:00-05:00             NaN              NaN  \n",
       "2022-02-25 00:00:00-05:00             NaN              NaN  \n",
       "2022-02-28 00:00:00-05:00             NaN              NaN  "
      ]
     },
     "execution_count": 7,
     "metadata": {},
     "output_type": "execute_result"
    }
   ],
   "source": [
    "google_df.head(25)"
   ]
  },
  {
   "cell_type": "code",
   "execution_count": 8,
   "id": "6c9b1ba2",
   "metadata": {},
   "outputs": [],
   "source": [
    "google_df['5d_future_close'] = google_df['Adj Close'].shift(-5)\n",
    "google_df['5d_close_future_pct'] = google_df['5d_future_close'].pct_change(5)"
   ]
  },
  {
   "cell_type": "code",
   "execution_count": 9,
   "id": "b899f3d8",
   "metadata": {},
   "outputs": [],
   "source": [
    "google_df.dropna(inplace=True)\n",
    "y = google_df['5d_close_future_pct']\n",
    "X = google_df.drop(['5d_close_future_pct'],axis=1)"
   ]
  },
  {
   "cell_type": "code",
   "execution_count": 10,
   "id": "091a5c4c",
   "metadata": {},
   "outputs": [],
   "source": [
    "from sklearn.model_selection import train_test_split\n",
    "from collections import Counter\n",
    "X_train,X_test,y_train,y_test = train_test_split(X,y,random_state=1)"
   ]
  },
  {
   "cell_type": "markdown",
   "id": "1b459d7c",
   "metadata": {},
   "source": [
    "# Random forest Regressor"
   ]
  },
  {
   "cell_type": "code",
   "execution_count": 11,
   "id": "8c289e26",
   "metadata": {},
   "outputs": [],
   "source": [
    "from sklearn.ensemble import RandomForestRegressor\n",
    "rf_model = RandomForestRegressor()"
   ]
  },
  {
   "cell_type": "code",
   "execution_count": 31,
   "id": "357e3e5d",
   "metadata": {},
   "outputs": [
    {
     "data": {
      "image/png": "[encoded data removed]",
      "text/plain": [
       "<Figure size 432x288 with 1 Axes>"
      ]
     },
     "metadata": {
      "needs_background": "light"
     },
     "output_type": "display_data"
    }
   ],
   "source": [
    "rf_model = RandomForestRegressor(n_estimators=300, max_depth=3, max_features=4, random_state=42)\n",
    "rf_model.fit(X_train, y_train)\n",
    "\n",
    "y_pred = rf_model.predict(X_test)\n",
    "y_test_series = pd.Series(y_test,index=y_test.index)\n",
    "y_pred_series = pd.Series(y_pred, index=y_test.index)\n",
    "y_pred_series.plot()\n",
    "plt.ylabel(\"Predicted 5 Day Close Price Change Percent\")\n",
    "plt.show()"
   ]
  },
  {
   "cell_type": "code",
   "execution_count": 13,
   "id": "feda7ac1",
   "metadata": {},
   "outputs": [
    {
     "data": {
      "text/plain": [
       "0.4856529386049998"
      ]
     },
     "execution_count": 13,
     "metadata": {},
     "output_type": "execute_result"
    }
   ],
   "source": [
    "rf_model.score(X_test,y_test)"
   ]
  },
  {
   "cell_type": "code",
   "execution_count": 14,
   "id": "10fbe314",
   "metadata": {},
   "outputs": [
    {
     "name": "stdout",
     "output_type": "stream",
     "text": [
      "mean_squared_error :  0.0011963337248587446\n",
      "mean_absolute_error :  0.02959100913500605\n"
     ]
    }
   ],
   "source": [
    "# model evaluation\n",
    "print(\n",
    "  'mean_squared_error : ', mean_squared_error(y_test, y_pred))\n",
    "print(\n",
    "  'mean_absolute_error : ', mean_absolute_error(y_test, y_pred))"
   ]
  },
  {
   "cell_type": "markdown",
   "id": "b1ad99ca",
   "metadata": {},
   "source": [
    "# Linear Regression"
   ]
  },
  {
   "cell_type": "code",
   "execution_count": 15,
   "id": "a0d1953d",
   "metadata": {},
   "outputs": [],
   "source": [
    "from sklearn.linear_model import LinearRegression\n",
    "from sklearn.metrics import mean_squared_error, mean_absolute_error\n",
    "from sklearn import preprocessing"
   ]
  },
  {
   "cell_type": "code",
   "execution_count": 16,
   "id": "761049b2",
   "metadata": {},
   "outputs": [],
   "source": [
    "# creating a regression model\n",
    "model = LinearRegression()"
   ]
  },
  {
   "cell_type": "code",
   "execution_count": 17,
   "id": "c14d3301",
   "metadata": {},
   "outputs": [],
   "source": [
    "X_train,X_test,y_train,y_test = train_test_split(X,y,random_state=1)"
   ]
  },
  {
   "cell_type": "code",
   "execution_count": 18,
   "id": "a4bdd282",
   "metadata": {},
   "outputs": [
    {
     "data": {
      "text/plain": [
       "(111, 10)"
      ]
     },
     "execution_count": 18,
     "metadata": {},
     "output_type": "execute_result"
    }
   ],
   "source": [
    "X_train.shape"
   ]
  },
  {
   "cell_type": "code",
   "execution_count": 19,
   "id": "e1b2f43e",
   "metadata": {},
   "outputs": [
    {
     "data": {
      "text/plain": [
       "(37, 10)"
      ]
     },
     "execution_count": 19,
     "metadata": {},
     "output_type": "execute_result"
    }
   ],
   "source": [
    "X_test.shape"
   ]
  },
  {
   "cell_type": "code",
   "execution_count": 20,
   "id": "387ea4f6",
   "metadata": {},
   "outputs": [
    {
     "data": {
      "text/html": [
       "<style>#sk-container-id-1 {color: black;background-color: white;}#sk-container-id-1 pre{padding: 0;}#sk-container-id-1 div.sk-toggleable {background-color: white;}#sk-container-id-1 label.sk-toggleable__label {cursor: pointer;display: block;width: 100%;margin-bottom: 0;padding: 0.3em;box-sizing: border-box;text-align: center;}#sk-container-id-1 label.sk-toggleable__label-arrow:before {content: \"▸\";float: left;margin-right: 0.25em;color: #696969;}#sk-container-id-1 label.sk-toggleable__label-arrow:hover:before {color: black;}#sk-container-id-1 div.sk-estimator:hover label.sk-toggleable__label-arrow:before {color: black;}#sk-container-id-1 div.sk-toggleable__content {max-height: 0;max-width: 0;overflow: hidden;text-align: left;background-color: #f0f8ff;}#sk-container-id-1 div.sk-toggleable__content pre {margin: 0.2em;color: black;border-radius: 0.25em;background-color: #f0f8ff;}#sk-container-id-1 input.sk-toggleable__control:checked~div.sk-toggleable__content {max-height: 200px;max-width: 100%;overflow: auto;}#sk-container-id-1 input.sk-toggleable__control:checked~label.sk-toggleable__label-arrow:before {content: \"▾\";}#sk-container-id-1 div.sk-estimator input.sk-toggleable__control:checked~label.sk-toggleable__label {background-color: #d4ebff;}#sk-container-id-1 div.sk-label input.sk-toggleable__control:checked~label.sk-toggleable__label {background-color: #d4ebff;}#sk-container-id-1 input.sk-hidden--visually {border: 0;clip: rect(1px 1px 1px 1px);clip: rect(1px, 1px, 1px, 1px);height: 1px;margin: -1px;overflow: hidden;padding: 0;position: absolute;width: 1px;}#sk-container-id-1 div.sk-estimator {font-family: monospace;background-color: #f0f8ff;border: 1px dotted black;border-radius: 0.25em;box-sizing: border-box;margin-bottom: 0.5em;}#sk-container-id-1 div.sk-estimator:hover {background-color: #d4ebff;}#sk-container-id-1 div.sk-parallel-item::after {content: \"\";width: 100%;border-bottom: 1px solid gray;flex-grow: 1;}#sk-container-id-1 div.sk-label:hover label.sk-toggleable__label {background-color: #d4ebff;}#sk-container-id-1 div.sk-serial::before {content: \"\";position: absolute;border-left: 1px solid gray;box-sizing: border-box;top: 0;bottom: 0;left: 50%;z-index: 0;}#sk-container-id-1 div.sk-serial {display: flex;flex-direction: column;align-items: center;background-color: white;padding-right: 0.2em;padding-left: 0.2em;position: relative;}#sk-container-id-1 div.sk-item {position: relative;z-index: 1;}#sk-container-id-1 div.sk-parallel {display: flex;align-items: stretch;justify-content: center;background-color: white;position: relative;}#sk-container-id-1 div.sk-item::before, #sk-container-id-1 div.sk-parallel-item::before {content: \"\";position: absolute;border-left: 1px solid gray;box-sizing: border-box;top: 0;bottom: 0;left: 50%;z-index: -1;}#sk-container-id-1 div.sk-parallel-item {display: flex;flex-direction: column;z-index: 1;position: relative;background-color: white;}#sk-container-id-1 div.sk-parallel-item:first-child::after {align-self: flex-end;width: 50%;}#sk-container-id-1 div.sk-parallel-item:last-child::after {align-self: flex-start;width: 50%;}#sk-container-id-1 div.sk-parallel-item:only-child::after {width: 0;}#sk-container-id-1 div.sk-dashed-wrapped {border: 1px dashed gray;margin: 0 0.4em 0.5em 0.4em;box-sizing: border-box;padding-bottom: 0.4em;background-color: white;}#sk-container-id-1 div.sk-label label {font-family: monospace;font-weight: bold;display: inline-block;line-height: 1.2em;}#sk-container-id-1 div.sk-label-container {text-align: center;}#sk-container-id-1 div.sk-container {/* jupyter's `normalize.less` sets `[hidden] { display: none; }` but bootstrap.min.css set `[hidden] { display: none !important; }` so we also need the `!important` here to be able to override the default hidden behavior on the sphinx rendered scikit-learn.org. See: https://github.com/scikit-learn/scikit-learn/issues/21755 */display: inline-block !important;position: relative;}#sk-container-id-1 div.sk-text-repr-fallback {display: none;}</style><div id=\"sk-container-id-1\" class=\"sk-top-container\"><div class=\"sk-text-repr-fallback\"><pre>LinearRegression()</pre><b>In a Jupyter environment, please rerun this cell to show the HTML representation or trust the notebook. <br />On GitHub, the HTML representation is unable to render, please try loading this page with nbviewer.org.</b></div><div class=\"sk-container\" hidden><div class=\"sk-item\"><div class=\"sk-estimator sk-toggleable\"><input class=\"sk-toggleable__control sk-hidden--visually\" id=\"sk-estimator-id-1\" type=\"checkbox\" checked><label for=\"sk-estimator-id-1\" class=\"sk-toggleable__label sk-toggleable__label-arrow\">LinearRegression</label><div class=\"sk-toggleable__content\"><pre>LinearRegression()</pre></div></div></div></div></div>"
      ],
      "text/plain": [
       "LinearRegression()"
      ]
     },
     "execution_count": 20,
     "metadata": {},
     "output_type": "execute_result"
    }
   ],
   "source": [
    "# fitting the model\n",
    "model.fit(X_train,y_train)"
   ]
  },
  {
   "cell_type": "code",
   "execution_count": 21,
   "id": "8c80a37e",
   "metadata": {},
   "outputs": [],
   "source": [
    "# making predictions\n",
    "y_pred = model.predict(X_test)"
   ]
  },
  {
   "cell_type": "code",
   "execution_count": 22,
   "id": "6e88d6ee",
   "metadata": {},
   "outputs": [
    {
     "data": {
      "text/plain": [
       "0.9876295632757309"
      ]
     },
     "execution_count": 22,
     "metadata": {},
     "output_type": "execute_result"
    }
   ],
   "source": [
    "model.score(X_test,y_test)"
   ]
  },
  {
   "cell_type": "code",
   "execution_count": 23,
   "id": "5bb8b842",
   "metadata": {},
   "outputs": [
    {
     "name": "stdout",
     "output_type": "stream",
     "text": [
      "mean_squared_error :  2.8772732956490916e-05\n",
      "mean_absolute_error :  0.004170461135915213\n"
     ]
    }
   ],
   "source": [
    "# model evaluation\n",
    "print(\n",
    "  'mean_squared_error : ', mean_squared_error(y_test, y_pred))\n",
    "print(\n",
    "  'mean_absolute_error : ', mean_absolute_error(y_test, y_pred))"
   ]
  },
  {
   "cell_type": "code",
   "execution_count": null,
   "id": "341db86f",
   "metadata": {},
   "outputs": [],
   "source": []
  }
 ],
 "metadata": {
  "kernelspec": {
   "display_name": "Python 3",
   "language": "python",
   "name": "python3"
  },
  "language_info": {
   "codemirror_mode": {
    "name": "ipython",
    "version": 3
   },
   "file_extension": ".py",
   "mimetype": "text/x-python",
   "name": "python",
   "nbconvert_exporter": "python",
   "pygments_lexer": "ipython3",
   "version": "3.8.8"
  }
 },
 "nbformat": 4,
 "nbformat_minor": 5
}
